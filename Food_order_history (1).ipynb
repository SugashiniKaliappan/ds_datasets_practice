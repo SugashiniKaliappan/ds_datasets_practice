{
  "nbformat": 4,
  "nbformat_minor": 0,
  "metadata": {
    "colab": {
      "provenance": []
    },
    "kernelspec": {
      "name": "python3",
      "display_name": "Python 3"
    },
    "language_info": {
      "name": "python"
    }
  },
  "cells": [
    {
      "cell_type": "markdown",
      "source": [
        "# EDA - Exploratory Data Analysis - Level 1\n",
        "### Food Delivery Order History Data\n",
        "### Dataset Link - https://www.kaggle.com/datasets/sujalsuthar/food-delivery-order-history-data"
      ],
      "metadata": {
        "id": "tX1RRcINMRCp"
      }
    },
    {
      "cell_type": "code",
      "source": [
        "import pandas as pd"
      ],
      "metadata": {
        "id": "hnf5MIVMupca"
      },
      "execution_count": 1,
      "outputs": []
    },
    {
      "cell_type": "code",
      "source": [
        "from google.colab import drive\n",
        "drive.mount('/content/drive/')"
      ],
      "metadata": {
        "colab": {
          "base_uri": "https://localhost:8080/"
        },
        "id": "ewiyCDWwvR5A",
        "outputId": "3142c295-861d-4796-f043-ca98e0a1b51f"
      },
      "execution_count": 2,
      "outputs": [
        {
          "output_type": "stream",
          "name": "stdout",
          "text": [
            "Mounted at /content/drive/\n"
          ]
        }
      ]
    },
    {
      "cell_type": "markdown",
      "source": [
        "## Loading the data from drive"
      ],
      "metadata": {
        "id": "rzwnxwbzS8FU"
      }
    },
    {
      "cell_type": "code",
      "source": [
        "order_history_df = pd.read_csv('/content/drive/MyDrive/order_history_kaggle_data.csv')"
      ],
      "metadata": {
        "id": "_bJNwpQIwPdE"
      },
      "execution_count": 3,
      "outputs": []
    },
    {
      "cell_type": "markdown",
      "source": [
        "## Datasize Check"
      ],
      "metadata": {
        "id": "xRd68hblL8bV"
      }
    },
    {
      "cell_type": "code",
      "source": [
        "#Datasize\n",
        "order_history_df.shape"
      ],
      "metadata": {
        "id": "y2Y0PyukxdIc",
        "colab": {
          "base_uri": "https://localhost:8080/"
        },
        "outputId": "a3482faf-a03f-4701-9bbe-f881fdd24516"
      },
      "execution_count": 5,
      "outputs": [
        {
          "output_type": "execute_result",
          "data": {
            "text/plain": [
              "(21321, 29)"
            ]
          },
          "metadata": {},
          "execution_count": 5
        }
      ]
    },
    {
      "cell_type": "markdown",
      "source": [
        "## Sample"
      ],
      "metadata": {
        "id": "BwTxNOOAMFQs"
      }
    },
    {
      "cell_type": "markdown",
      "source": [],
      "metadata": {
        "id": "dFSek1OjL7qV"
      }
    },
    {
      "cell_type": "code",
      "source": [
        "order_history_df.head(5)"
      ],
      "metadata": {
        "colab": {
          "base_uri": "https://localhost:8080/",
          "height": 620
        },
        "id": "sf8QVWaK8OQw",
        "outputId": "c040d591-99bc-42c7-e417-3fc7e7125f95"
      },
      "execution_count": 6,
      "outputs": [
        {
          "output_type": "execute_result",
          "data": {
            "text/plain": [
              "   Restaurant ID Restaurant name   Subzone       City    Order ID  \\\n",
              "0       20320607           Swaad  Sector 4  Delhi NCR  6168884918   \n",
              "1       20320607           Swaad  Sector 4  Delhi NCR  6170707559   \n",
              "2       20320607           Swaad  Sector 4  Delhi NCR  6169375019   \n",
              "3       20320607           Swaad  Sector 4  Delhi NCR  6151677434   \n",
              "4       20320607           Swaad  Sector 4  Delhi NCR  6167540897   \n",
              "\n",
              "               Order Placed At Order Status         Delivery Distance  \\\n",
              "0  11:38 PM, September 10 2024    Delivered  Zomato Delivery      3km   \n",
              "1  11:34 PM, September 10 2024    Delivered  Zomato Delivery      2km   \n",
              "2  03:52 PM, September 10 2024    Delivered  Zomato Delivery     <1km   \n",
              "3  03:45 PM, September 10 2024    Delivered  Zomato Delivery      2km   \n",
              "4  03:04 PM, September 10 2024    Delivered  Zomato Delivery      2km   \n",
              "\n",
              "                                      Items in order  ... Rating Review  \\\n",
              "0  1 x Grilled Chicken Jamaican Tender, 1 x Grill...  ...    NaN    NaN   \n",
              "1  1 x Peri Peri Fries, 1 x Fried Chicken Angara ...  ...    NaN    NaN   \n",
              "2              1 x Bone in Peri Peri Grilled Chicken  ...    NaN    NaN   \n",
              "3  1 x Fried Chicken Ghostbuster Tender, 1 x Anga...  ...    4.0    NaN   \n",
              "4  1 x Peri Peri Krispers, 1 x Fried Chicken Anga...  ...    NaN    NaN   \n",
              "\n",
              "   Cancellation / Rejection reason  Restaurant compensation (Cancellation)  \\\n",
              "0                              NaN                                     NaN   \n",
              "1                              NaN                                     NaN   \n",
              "2                              NaN                                     NaN   \n",
              "3                              NaN                                     NaN   \n",
              "4                              NaN                                     NaN   \n",
              "\n",
              "   Restaurant penalty (Rejection)  KPT duration (minutes)  \\\n",
              "0                             NaN                   18.35   \n",
              "1                             NaN                   16.95   \n",
              "2                             NaN                   14.05   \n",
              "3                             NaN                   19.00   \n",
              "4                             NaN                   15.97   \n",
              "\n",
              "   Rider wait time (minutes)  Order Ready Marked  Customer complaint tag  \\\n",
              "0                       11.6           Correctly                     NaN   \n",
              "1                        3.6           Correctly                     NaN   \n",
              "2                       12.2           Correctly                     NaN   \n",
              "3                        3.3           Correctly                     NaN   \n",
              "4                        1.0           Correctly                     NaN   \n",
              "\n",
              "                                         Customer ID  \n",
              "0  5d6c2b96db963098bc69768bea504c8bf46106a8a5178e...  \n",
              "1  0781815deb4a10a574e9fee4fa0b86b074d4a0b36175d5...  \n",
              "2  f93362f5ce5382657482d164e368186bcec9c6225fd93d...  \n",
              "3  1ed226d1b8a5f7acee12fc1d6676558330a3b2b742af5d...  \n",
              "4  d21a2ac6ea06b31cc3288ab20c4ef2f292066c096f2c5f...  \n",
              "\n",
              "[5 rows x 29 columns]"
            ],
            "text/html": [
              "\n",
              "  <div id=\"df-c0f63e80-3f10-4a1b-8f6d-39b90a5dcf82\" class=\"colab-df-container\">\n",
              "    <div>\n",
              "<style scoped>\n",
              "    .dataframe tbody tr th:only-of-type {\n",
              "        vertical-align: middle;\n",
              "    }\n",
              "\n",
              "    .dataframe tbody tr th {\n",
              "        vertical-align: top;\n",
              "    }\n",
              "\n",
              "    .dataframe thead th {\n",
              "        text-align: right;\n",
              "    }\n",
              "</style>\n",
              "<table border=\"1\" class=\"dataframe\">\n",
              "  <thead>\n",
              "    <tr style=\"text-align: right;\">\n",
              "      <th></th>\n",
              "      <th>Restaurant ID</th>\n",
              "      <th>Restaurant name</th>\n",
              "      <th>Subzone</th>\n",
              "      <th>City</th>\n",
              "      <th>Order ID</th>\n",
              "      <th>Order Placed At</th>\n",
              "      <th>Order Status</th>\n",
              "      <th>Delivery</th>\n",
              "      <th>Distance</th>\n",
              "      <th>Items in order</th>\n",
              "      <th>...</th>\n",
              "      <th>Rating</th>\n",
              "      <th>Review</th>\n",
              "      <th>Cancellation / Rejection reason</th>\n",
              "      <th>Restaurant compensation (Cancellation)</th>\n",
              "      <th>Restaurant penalty (Rejection)</th>\n",
              "      <th>KPT duration (minutes)</th>\n",
              "      <th>Rider wait time (minutes)</th>\n",
              "      <th>Order Ready Marked</th>\n",
              "      <th>Customer complaint tag</th>\n",
              "      <th>Customer ID</th>\n",
              "    </tr>\n",
              "  </thead>\n",
              "  <tbody>\n",
              "    <tr>\n",
              "      <th>0</th>\n",
              "      <td>20320607</td>\n",
              "      <td>Swaad</td>\n",
              "      <td>Sector 4</td>\n",
              "      <td>Delhi NCR</td>\n",
              "      <td>6168884918</td>\n",
              "      <td>11:38 PM, September 10 2024</td>\n",
              "      <td>Delivered</td>\n",
              "      <td>Zomato Delivery</td>\n",
              "      <td>3km</td>\n",
              "      <td>1 x Grilled Chicken Jamaican Tender, 1 x Grill...</td>\n",
              "      <td>...</td>\n",
              "      <td>NaN</td>\n",
              "      <td>NaN</td>\n",
              "      <td>NaN</td>\n",
              "      <td>NaN</td>\n",
              "      <td>NaN</td>\n",
              "      <td>18.35</td>\n",
              "      <td>11.6</td>\n",
              "      <td>Correctly</td>\n",
              "      <td>NaN</td>\n",
              "      <td>5d6c2b96db963098bc69768bea504c8bf46106a8a5178e...</td>\n",
              "    </tr>\n",
              "    <tr>\n",
              "      <th>1</th>\n",
              "      <td>20320607</td>\n",
              "      <td>Swaad</td>\n",
              "      <td>Sector 4</td>\n",
              "      <td>Delhi NCR</td>\n",
              "      <td>6170707559</td>\n",
              "      <td>11:34 PM, September 10 2024</td>\n",
              "      <td>Delivered</td>\n",
              "      <td>Zomato Delivery</td>\n",
              "      <td>2km</td>\n",
              "      <td>1 x Peri Peri Fries, 1 x Fried Chicken Angara ...</td>\n",
              "      <td>...</td>\n",
              "      <td>NaN</td>\n",
              "      <td>NaN</td>\n",
              "      <td>NaN</td>\n",
              "      <td>NaN</td>\n",
              "      <td>NaN</td>\n",
              "      <td>16.95</td>\n",
              "      <td>3.6</td>\n",
              "      <td>Correctly</td>\n",
              "      <td>NaN</td>\n",
              "      <td>0781815deb4a10a574e9fee4fa0b86b074d4a0b36175d5...</td>\n",
              "    </tr>\n",
              "    <tr>\n",
              "      <th>2</th>\n",
              "      <td>20320607</td>\n",
              "      <td>Swaad</td>\n",
              "      <td>Sector 4</td>\n",
              "      <td>Delhi NCR</td>\n",
              "      <td>6169375019</td>\n",
              "      <td>03:52 PM, September 10 2024</td>\n",
              "      <td>Delivered</td>\n",
              "      <td>Zomato Delivery</td>\n",
              "      <td>&lt;1km</td>\n",
              "      <td>1 x Bone in Peri Peri Grilled Chicken</td>\n",
              "      <td>...</td>\n",
              "      <td>NaN</td>\n",
              "      <td>NaN</td>\n",
              "      <td>NaN</td>\n",
              "      <td>NaN</td>\n",
              "      <td>NaN</td>\n",
              "      <td>14.05</td>\n",
              "      <td>12.2</td>\n",
              "      <td>Correctly</td>\n",
              "      <td>NaN</td>\n",
              "      <td>f93362f5ce5382657482d164e368186bcec9c6225fd93d...</td>\n",
              "    </tr>\n",
              "    <tr>\n",
              "      <th>3</th>\n",
              "      <td>20320607</td>\n",
              "      <td>Swaad</td>\n",
              "      <td>Sector 4</td>\n",
              "      <td>Delhi NCR</td>\n",
              "      <td>6151677434</td>\n",
              "      <td>03:45 PM, September 10 2024</td>\n",
              "      <td>Delivered</td>\n",
              "      <td>Zomato Delivery</td>\n",
              "      <td>2km</td>\n",
              "      <td>1 x Fried Chicken Ghostbuster Tender, 1 x Anga...</td>\n",
              "      <td>...</td>\n",
              "      <td>4.0</td>\n",
              "      <td>NaN</td>\n",
              "      <td>NaN</td>\n",
              "      <td>NaN</td>\n",
              "      <td>NaN</td>\n",
              "      <td>19.00</td>\n",
              "      <td>3.3</td>\n",
              "      <td>Correctly</td>\n",
              "      <td>NaN</td>\n",
              "      <td>1ed226d1b8a5f7acee12fc1d6676558330a3b2b742af5d...</td>\n",
              "    </tr>\n",
              "    <tr>\n",
              "      <th>4</th>\n",
              "      <td>20320607</td>\n",
              "      <td>Swaad</td>\n",
              "      <td>Sector 4</td>\n",
              "      <td>Delhi NCR</td>\n",
              "      <td>6167540897</td>\n",
              "      <td>03:04 PM, September 10 2024</td>\n",
              "      <td>Delivered</td>\n",
              "      <td>Zomato Delivery</td>\n",
              "      <td>2km</td>\n",
              "      <td>1 x Peri Peri Krispers, 1 x Fried Chicken Anga...</td>\n",
              "      <td>...</td>\n",
              "      <td>NaN</td>\n",
              "      <td>NaN</td>\n",
              "      <td>NaN</td>\n",
              "      <td>NaN</td>\n",
              "      <td>NaN</td>\n",
              "      <td>15.97</td>\n",
              "      <td>1.0</td>\n",
              "      <td>Correctly</td>\n",
              "      <td>NaN</td>\n",
              "      <td>d21a2ac6ea06b31cc3288ab20c4ef2f292066c096f2c5f...</td>\n",
              "    </tr>\n",
              "  </tbody>\n",
              "</table>\n",
              "<p>5 rows × 29 columns</p>\n",
              "</div>\n",
              "    <div class=\"colab-df-buttons\">\n",
              "\n",
              "  <div class=\"colab-df-container\">\n",
              "    <button class=\"colab-df-convert\" onclick=\"convertToInteractive('df-c0f63e80-3f10-4a1b-8f6d-39b90a5dcf82')\"\n",
              "            title=\"Convert this dataframe to an interactive table.\"\n",
              "            style=\"display:none;\">\n",
              "\n",
              "  <svg xmlns=\"http://www.w3.org/2000/svg\" height=\"24px\" viewBox=\"0 -960 960 960\">\n",
              "    <path d=\"M120-120v-720h720v720H120Zm60-500h600v-160H180v160Zm220 220h160v-160H400v160Zm0 220h160v-160H400v160ZM180-400h160v-160H180v160Zm440 0h160v-160H620v160ZM180-180h160v-160H180v160Zm440 0h160v-160H620v160Z\"/>\n",
              "  </svg>\n",
              "    </button>\n",
              "\n",
              "  <style>\n",
              "    .colab-df-container {\n",
              "      display:flex;\n",
              "      gap: 12px;\n",
              "    }\n",
              "\n",
              "    .colab-df-convert {\n",
              "      background-color: #E8F0FE;\n",
              "      border: none;\n",
              "      border-radius: 50%;\n",
              "      cursor: pointer;\n",
              "      display: none;\n",
              "      fill: #1967D2;\n",
              "      height: 32px;\n",
              "      padding: 0 0 0 0;\n",
              "      width: 32px;\n",
              "    }\n",
              "\n",
              "    .colab-df-convert:hover {\n",
              "      background-color: #E2EBFA;\n",
              "      box-shadow: 0px 1px 2px rgba(60, 64, 67, 0.3), 0px 1px 3px 1px rgba(60, 64, 67, 0.15);\n",
              "      fill: #174EA6;\n",
              "    }\n",
              "\n",
              "    .colab-df-buttons div {\n",
              "      margin-bottom: 4px;\n",
              "    }\n",
              "\n",
              "    [theme=dark] .colab-df-convert {\n",
              "      background-color: #3B4455;\n",
              "      fill: #D2E3FC;\n",
              "    }\n",
              "\n",
              "    [theme=dark] .colab-df-convert:hover {\n",
              "      background-color: #434B5C;\n",
              "      box-shadow: 0px 1px 3px 1px rgba(0, 0, 0, 0.15);\n",
              "      filter: drop-shadow(0px 1px 2px rgba(0, 0, 0, 0.3));\n",
              "      fill: #FFFFFF;\n",
              "    }\n",
              "  </style>\n",
              "\n",
              "    <script>\n",
              "      const buttonEl =\n",
              "        document.querySelector('#df-c0f63e80-3f10-4a1b-8f6d-39b90a5dcf82 button.colab-df-convert');\n",
              "      buttonEl.style.display =\n",
              "        google.colab.kernel.accessAllowed ? 'block' : 'none';\n",
              "\n",
              "      async function convertToInteractive(key) {\n",
              "        const element = document.querySelector('#df-c0f63e80-3f10-4a1b-8f6d-39b90a5dcf82');\n",
              "        const dataTable =\n",
              "          await google.colab.kernel.invokeFunction('convertToInteractive',\n",
              "                                                    [key], {});\n",
              "        if (!dataTable) return;\n",
              "\n",
              "        const docLinkHtml = 'Like what you see? Visit the ' +\n",
              "          '<a target=\"_blank\" href=https://colab.research.google.com/notebooks/data_table.ipynb>data table notebook</a>'\n",
              "          + ' to learn more about interactive tables.';\n",
              "        element.innerHTML = '';\n",
              "        dataTable['output_type'] = 'display_data';\n",
              "        await google.colab.output.renderOutput(dataTable, element);\n",
              "        const docLink = document.createElement('div');\n",
              "        docLink.innerHTML = docLinkHtml;\n",
              "        element.appendChild(docLink);\n",
              "      }\n",
              "    </script>\n",
              "  </div>\n",
              "\n",
              "\n",
              "<div id=\"df-5b7b79fc-64e9-4eb4-94d0-8ffa7b298af6\">\n",
              "  <button class=\"colab-df-quickchart\" onclick=\"quickchart('df-5b7b79fc-64e9-4eb4-94d0-8ffa7b298af6')\"\n",
              "            title=\"Suggest charts\"\n",
              "            style=\"display:none;\">\n",
              "\n",
              "<svg xmlns=\"http://www.w3.org/2000/svg\" height=\"24px\"viewBox=\"0 0 24 24\"\n",
              "     width=\"24px\">\n",
              "    <g>\n",
              "        <path d=\"M19 3H5c-1.1 0-2 .9-2 2v14c0 1.1.9 2 2 2h14c1.1 0 2-.9 2-2V5c0-1.1-.9-2-2-2zM9 17H7v-7h2v7zm4 0h-2V7h2v10zm4 0h-2v-4h2v4z\"/>\n",
              "    </g>\n",
              "</svg>\n",
              "  </button>\n",
              "\n",
              "<style>\n",
              "  .colab-df-quickchart {\n",
              "      --bg-color: #E8F0FE;\n",
              "      --fill-color: #1967D2;\n",
              "      --hover-bg-color: #E2EBFA;\n",
              "      --hover-fill-color: #174EA6;\n",
              "      --disabled-fill-color: #AAA;\n",
              "      --disabled-bg-color: #DDD;\n",
              "  }\n",
              "\n",
              "  [theme=dark] .colab-df-quickchart {\n",
              "      --bg-color: #3B4455;\n",
              "      --fill-color: #D2E3FC;\n",
              "      --hover-bg-color: #434B5C;\n",
              "      --hover-fill-color: #FFFFFF;\n",
              "      --disabled-bg-color: #3B4455;\n",
              "      --disabled-fill-color: #666;\n",
              "  }\n",
              "\n",
              "  .colab-df-quickchart {\n",
              "    background-color: var(--bg-color);\n",
              "    border: none;\n",
              "    border-radius: 50%;\n",
              "    cursor: pointer;\n",
              "    display: none;\n",
              "    fill: var(--fill-color);\n",
              "    height: 32px;\n",
              "    padding: 0;\n",
              "    width: 32px;\n",
              "  }\n",
              "\n",
              "  .colab-df-quickchart:hover {\n",
              "    background-color: var(--hover-bg-color);\n",
              "    box-shadow: 0 1px 2px rgba(60, 64, 67, 0.3), 0 1px 3px 1px rgba(60, 64, 67, 0.15);\n",
              "    fill: var(--button-hover-fill-color);\n",
              "  }\n",
              "\n",
              "  .colab-df-quickchart-complete:disabled,\n",
              "  .colab-df-quickchart-complete:disabled:hover {\n",
              "    background-color: var(--disabled-bg-color);\n",
              "    fill: var(--disabled-fill-color);\n",
              "    box-shadow: none;\n",
              "  }\n",
              "\n",
              "  .colab-df-spinner {\n",
              "    border: 2px solid var(--fill-color);\n",
              "    border-color: transparent;\n",
              "    border-bottom-color: var(--fill-color);\n",
              "    animation:\n",
              "      spin 1s steps(1) infinite;\n",
              "  }\n",
              "\n",
              "  @keyframes spin {\n",
              "    0% {\n",
              "      border-color: transparent;\n",
              "      border-bottom-color: var(--fill-color);\n",
              "      border-left-color: var(--fill-color);\n",
              "    }\n",
              "    20% {\n",
              "      border-color: transparent;\n",
              "      border-left-color: var(--fill-color);\n",
              "      border-top-color: var(--fill-color);\n",
              "    }\n",
              "    30% {\n",
              "      border-color: transparent;\n",
              "      border-left-color: var(--fill-color);\n",
              "      border-top-color: var(--fill-color);\n",
              "      border-right-color: var(--fill-color);\n",
              "    }\n",
              "    40% {\n",
              "      border-color: transparent;\n",
              "      border-right-color: var(--fill-color);\n",
              "      border-top-color: var(--fill-color);\n",
              "    }\n",
              "    60% {\n",
              "      border-color: transparent;\n",
              "      border-right-color: var(--fill-color);\n",
              "    }\n",
              "    80% {\n",
              "      border-color: transparent;\n",
              "      border-right-color: var(--fill-color);\n",
              "      border-bottom-color: var(--fill-color);\n",
              "    }\n",
              "    90% {\n",
              "      border-color: transparent;\n",
              "      border-bottom-color: var(--fill-color);\n",
              "    }\n",
              "  }\n",
              "</style>\n",
              "\n",
              "  <script>\n",
              "    async function quickchart(key) {\n",
              "      const quickchartButtonEl =\n",
              "        document.querySelector('#' + key + ' button');\n",
              "      quickchartButtonEl.disabled = true;  // To prevent multiple clicks.\n",
              "      quickchartButtonEl.classList.add('colab-df-spinner');\n",
              "      try {\n",
              "        const charts = await google.colab.kernel.invokeFunction(\n",
              "            'suggestCharts', [key], {});\n",
              "      } catch (error) {\n",
              "        console.error('Error during call to suggestCharts:', error);\n",
              "      }\n",
              "      quickchartButtonEl.classList.remove('colab-df-spinner');\n",
              "      quickchartButtonEl.classList.add('colab-df-quickchart-complete');\n",
              "    }\n",
              "    (() => {\n",
              "      let quickchartButtonEl =\n",
              "        document.querySelector('#df-5b7b79fc-64e9-4eb4-94d0-8ffa7b298af6 button');\n",
              "      quickchartButtonEl.style.display =\n",
              "        google.colab.kernel.accessAllowed ? 'block' : 'none';\n",
              "    })();\n",
              "  </script>\n",
              "</div>\n",
              "\n",
              "    </div>\n",
              "  </div>\n"
            ],
            "application/vnd.google.colaboratory.intrinsic+json": {
              "type": "dataframe",
              "variable_name": "order_history_df"
            }
          },
          "metadata": {},
          "execution_count": 6
        }
      ]
    },
    {
      "cell_type": "markdown",
      "source": [
        "## All columns"
      ],
      "metadata": {
        "id": "dL7qU2yfMhnD"
      }
    },
    {
      "cell_type": "code",
      "source": [
        "order_history_df.columns"
      ],
      "metadata": {
        "colab": {
          "base_uri": "https://localhost:8080/"
        },
        "id": "nNjOTdrVyxh6",
        "outputId": "ef333ca5-a2fe-4c41-c303-1024cb9ef0dc"
      },
      "execution_count": 7,
      "outputs": [
        {
          "output_type": "execute_result",
          "data": {
            "text/plain": [
              "Index(['Restaurant ID', 'Restaurant name', 'Subzone', 'City', 'Order ID',\n",
              "       'Order Placed At', 'Order Status', 'Delivery', 'Distance',\n",
              "       'Items in order', 'Instructions', 'Discount construct', 'Bill subtotal',\n",
              "       'Packaging charges', 'Restaurant discount (Promo)',\n",
              "       'Restaurant discount (Flat offs, Freebies & others)', 'Gold discount',\n",
              "       'Brand pack discount', 'Total', 'Rating', 'Review',\n",
              "       'Cancellation / Rejection reason',\n",
              "       'Restaurant compensation (Cancellation)',\n",
              "       'Restaurant penalty (Rejection)', 'KPT duration (minutes)',\n",
              "       'Rider wait time (minutes)', 'Order Ready Marked',\n",
              "       'Customer complaint tag', 'Customer ID'],\n",
              "      dtype='object')"
            ]
          },
          "metadata": {},
          "execution_count": 7
        }
      ]
    },
    {
      "cell_type": "markdown",
      "source": [
        "## Null Values & Percentage at column level\n",
        "\n",
        "----updated after feedback - 2"
      ],
      "metadata": {
        "id": "3M3X6tkfMxHL"
      }
    },
    {
      "cell_type": "code",
      "source": [
        "null_values = order_history_df.isnull().sum()\n",
        "null_values_percentage = (null_values / len(order_history_df)) * 100\n",
        "null_columns_data = pd.concat([null_values, null_values_percentage], axis=1)\n",
        "null_columns_data.columns = ['Null_Counts', 'Percentage']\n",
        "null_columns_data['Percentage'] = null_columns_data['Percentage'].map('{:.2f}%'.format)  # Format percentage\n",
        "print(\"\\nNull Columns Percentage:\")\n",
        "display(null_columns_data)"
      ],
      "metadata": {
        "colab": {
          "base_uri": "https://localhost:8080/",
          "height": 993
        },
        "id": "PFTUGDtmIsle",
        "outputId": "2e139c04-dc96-4fd2-cd8c-3758bc7f8b29"
      },
      "execution_count": 8,
      "outputs": [
        {
          "output_type": "stream",
          "name": "stdout",
          "text": [
            "\n",
            "Null Columns Percentage:\n"
          ]
        },
        {
          "output_type": "display_data",
          "data": {
            "text/plain": [
              "                                                    Null_Counts Percentage\n",
              "Restaurant ID                                                 0      0.00%\n",
              "Restaurant name                                               0      0.00%\n",
              "Subzone                                                       0      0.00%\n",
              "City                                                          0      0.00%\n",
              "Order ID                                                      0      0.00%\n",
              "Order Placed At                                               0      0.00%\n",
              "Order Status                                                  0      0.00%\n",
              "Delivery                                                      0      0.00%\n",
              "Distance                                                      0      0.00%\n",
              "Items in order                                                0      0.00%\n",
              "Instructions                                              20601     96.62%\n",
              "Discount construct                                         5498     25.79%\n",
              "Bill subtotal                                                 0      0.00%\n",
              "Packaging charges                                             0      0.00%\n",
              "Restaurant discount (Promo)                                   0      0.00%\n",
              "Restaurant discount (Flat offs, Freebies & others)            0      0.00%\n",
              "Gold discount                                                 0      0.00%\n",
              "Brand pack discount                                           0      0.00%\n",
              "Total                                                         0      0.00%\n",
              "Rating                                                    18830     88.32%\n",
              "Review                                                    21025     98.61%\n",
              "Cancellation / Rejection reason                           21135     99.13%\n",
              "Restaurant compensation (Cancellation)                    21188     99.38%\n",
              "Restaurant penalty (Rejection)                            21318     99.99%\n",
              "KPT duration (minutes)                                      295      1.38%\n",
              "Rider wait time (minutes)                                   168      0.79%\n",
              "Order Ready Marked                                            0      0.00%\n",
              "Customer complaint tag                                    20852     97.80%\n",
              "Customer ID                                                   0      0.00%"
            ],
            "text/html": [
              "\n",
              "  <div id=\"df-ff3d4f3e-e38f-4c18-bc41-471d9dfa4814\" class=\"colab-df-container\">\n",
              "    <div>\n",
              "<style scoped>\n",
              "    .dataframe tbody tr th:only-of-type {\n",
              "        vertical-align: middle;\n",
              "    }\n",
              "\n",
              "    .dataframe tbody tr th {\n",
              "        vertical-align: top;\n",
              "    }\n",
              "\n",
              "    .dataframe thead th {\n",
              "        text-align: right;\n",
              "    }\n",
              "</style>\n",
              "<table border=\"1\" class=\"dataframe\">\n",
              "  <thead>\n",
              "    <tr style=\"text-align: right;\">\n",
              "      <th></th>\n",
              "      <th>Null_Counts</th>\n",
              "      <th>Percentage</th>\n",
              "    </tr>\n",
              "  </thead>\n",
              "  <tbody>\n",
              "    <tr>\n",
              "      <th>Restaurant ID</th>\n",
              "      <td>0</td>\n",
              "      <td>0.00%</td>\n",
              "    </tr>\n",
              "    <tr>\n",
              "      <th>Restaurant name</th>\n",
              "      <td>0</td>\n",
              "      <td>0.00%</td>\n",
              "    </tr>\n",
              "    <tr>\n",
              "      <th>Subzone</th>\n",
              "      <td>0</td>\n",
              "      <td>0.00%</td>\n",
              "    </tr>\n",
              "    <tr>\n",
              "      <th>City</th>\n",
              "      <td>0</td>\n",
              "      <td>0.00%</td>\n",
              "    </tr>\n",
              "    <tr>\n",
              "      <th>Order ID</th>\n",
              "      <td>0</td>\n",
              "      <td>0.00%</td>\n",
              "    </tr>\n",
              "    <tr>\n",
              "      <th>Order Placed At</th>\n",
              "      <td>0</td>\n",
              "      <td>0.00%</td>\n",
              "    </tr>\n",
              "    <tr>\n",
              "      <th>Order Status</th>\n",
              "      <td>0</td>\n",
              "      <td>0.00%</td>\n",
              "    </tr>\n",
              "    <tr>\n",
              "      <th>Delivery</th>\n",
              "      <td>0</td>\n",
              "      <td>0.00%</td>\n",
              "    </tr>\n",
              "    <tr>\n",
              "      <th>Distance</th>\n",
              "      <td>0</td>\n",
              "      <td>0.00%</td>\n",
              "    </tr>\n",
              "    <tr>\n",
              "      <th>Items in order</th>\n",
              "      <td>0</td>\n",
              "      <td>0.00%</td>\n",
              "    </tr>\n",
              "    <tr>\n",
              "      <th>Instructions</th>\n",
              "      <td>20601</td>\n",
              "      <td>96.62%</td>\n",
              "    </tr>\n",
              "    <tr>\n",
              "      <th>Discount construct</th>\n",
              "      <td>5498</td>\n",
              "      <td>25.79%</td>\n",
              "    </tr>\n",
              "    <tr>\n",
              "      <th>Bill subtotal</th>\n",
              "      <td>0</td>\n",
              "      <td>0.00%</td>\n",
              "    </tr>\n",
              "    <tr>\n",
              "      <th>Packaging charges</th>\n",
              "      <td>0</td>\n",
              "      <td>0.00%</td>\n",
              "    </tr>\n",
              "    <tr>\n",
              "      <th>Restaurant discount (Promo)</th>\n",
              "      <td>0</td>\n",
              "      <td>0.00%</td>\n",
              "    </tr>\n",
              "    <tr>\n",
              "      <th>Restaurant discount (Flat offs, Freebies &amp; others)</th>\n",
              "      <td>0</td>\n",
              "      <td>0.00%</td>\n",
              "    </tr>\n",
              "    <tr>\n",
              "      <th>Gold discount</th>\n",
              "      <td>0</td>\n",
              "      <td>0.00%</td>\n",
              "    </tr>\n",
              "    <tr>\n",
              "      <th>Brand pack discount</th>\n",
              "      <td>0</td>\n",
              "      <td>0.00%</td>\n",
              "    </tr>\n",
              "    <tr>\n",
              "      <th>Total</th>\n",
              "      <td>0</td>\n",
              "      <td>0.00%</td>\n",
              "    </tr>\n",
              "    <tr>\n",
              "      <th>Rating</th>\n",
              "      <td>18830</td>\n",
              "      <td>88.32%</td>\n",
              "    </tr>\n",
              "    <tr>\n",
              "      <th>Review</th>\n",
              "      <td>21025</td>\n",
              "      <td>98.61%</td>\n",
              "    </tr>\n",
              "    <tr>\n",
              "      <th>Cancellation / Rejection reason</th>\n",
              "      <td>21135</td>\n",
              "      <td>99.13%</td>\n",
              "    </tr>\n",
              "    <tr>\n",
              "      <th>Restaurant compensation (Cancellation)</th>\n",
              "      <td>21188</td>\n",
              "      <td>99.38%</td>\n",
              "    </tr>\n",
              "    <tr>\n",
              "      <th>Restaurant penalty (Rejection)</th>\n",
              "      <td>21318</td>\n",
              "      <td>99.99%</td>\n",
              "    </tr>\n",
              "    <tr>\n",
              "      <th>KPT duration (minutes)</th>\n",
              "      <td>295</td>\n",
              "      <td>1.38%</td>\n",
              "    </tr>\n",
              "    <tr>\n",
              "      <th>Rider wait time (minutes)</th>\n",
              "      <td>168</td>\n",
              "      <td>0.79%</td>\n",
              "    </tr>\n",
              "    <tr>\n",
              "      <th>Order Ready Marked</th>\n",
              "      <td>0</td>\n",
              "      <td>0.00%</td>\n",
              "    </tr>\n",
              "    <tr>\n",
              "      <th>Customer complaint tag</th>\n",
              "      <td>20852</td>\n",
              "      <td>97.80%</td>\n",
              "    </tr>\n",
              "    <tr>\n",
              "      <th>Customer ID</th>\n",
              "      <td>0</td>\n",
              "      <td>0.00%</td>\n",
              "    </tr>\n",
              "  </tbody>\n",
              "</table>\n",
              "</div>\n",
              "    <div class=\"colab-df-buttons\">\n",
              "\n",
              "  <div class=\"colab-df-container\">\n",
              "    <button class=\"colab-df-convert\" onclick=\"convertToInteractive('df-ff3d4f3e-e38f-4c18-bc41-471d9dfa4814')\"\n",
              "            title=\"Convert this dataframe to an interactive table.\"\n",
              "            style=\"display:none;\">\n",
              "\n",
              "  <svg xmlns=\"http://www.w3.org/2000/svg\" height=\"24px\" viewBox=\"0 -960 960 960\">\n",
              "    <path d=\"M120-120v-720h720v720H120Zm60-500h600v-160H180v160Zm220 220h160v-160H400v160Zm0 220h160v-160H400v160ZM180-400h160v-160H180v160Zm440 0h160v-160H620v160ZM180-180h160v-160H180v160Zm440 0h160v-160H620v160Z\"/>\n",
              "  </svg>\n",
              "    </button>\n",
              "\n",
              "  <style>\n",
              "    .colab-df-container {\n",
              "      display:flex;\n",
              "      gap: 12px;\n",
              "    }\n",
              "\n",
              "    .colab-df-convert {\n",
              "      background-color: #E8F0FE;\n",
              "      border: none;\n",
              "      border-radius: 50%;\n",
              "      cursor: pointer;\n",
              "      display: none;\n",
              "      fill: #1967D2;\n",
              "      height: 32px;\n",
              "      padding: 0 0 0 0;\n",
              "      width: 32px;\n",
              "    }\n",
              "\n",
              "    .colab-df-convert:hover {\n",
              "      background-color: #E2EBFA;\n",
              "      box-shadow: 0px 1px 2px rgba(60, 64, 67, 0.3), 0px 1px 3px 1px rgba(60, 64, 67, 0.15);\n",
              "      fill: #174EA6;\n",
              "    }\n",
              "\n",
              "    .colab-df-buttons div {\n",
              "      margin-bottom: 4px;\n",
              "    }\n",
              "\n",
              "    [theme=dark] .colab-df-convert {\n",
              "      background-color: #3B4455;\n",
              "      fill: #D2E3FC;\n",
              "    }\n",
              "\n",
              "    [theme=dark] .colab-df-convert:hover {\n",
              "      background-color: #434B5C;\n",
              "      box-shadow: 0px 1px 3px 1px rgba(0, 0, 0, 0.15);\n",
              "      filter: drop-shadow(0px 1px 2px rgba(0, 0, 0, 0.3));\n",
              "      fill: #FFFFFF;\n",
              "    }\n",
              "  </style>\n",
              "\n",
              "    <script>\n",
              "      const buttonEl =\n",
              "        document.querySelector('#df-ff3d4f3e-e38f-4c18-bc41-471d9dfa4814 button.colab-df-convert');\n",
              "      buttonEl.style.display =\n",
              "        google.colab.kernel.accessAllowed ? 'block' : 'none';\n",
              "\n",
              "      async function convertToInteractive(key) {\n",
              "        const element = document.querySelector('#df-ff3d4f3e-e38f-4c18-bc41-471d9dfa4814');\n",
              "        const dataTable =\n",
              "          await google.colab.kernel.invokeFunction('convertToInteractive',\n",
              "                                                    [key], {});\n",
              "        if (!dataTable) return;\n",
              "\n",
              "        const docLinkHtml = 'Like what you see? Visit the ' +\n",
              "          '<a target=\"_blank\" href=https://colab.research.google.com/notebooks/data_table.ipynb>data table notebook</a>'\n",
              "          + ' to learn more about interactive tables.';\n",
              "        element.innerHTML = '';\n",
              "        dataTable['output_type'] = 'display_data';\n",
              "        await google.colab.output.renderOutput(dataTable, element);\n",
              "        const docLink = document.createElement('div');\n",
              "        docLink.innerHTML = docLinkHtml;\n",
              "        element.appendChild(docLink);\n",
              "      }\n",
              "    </script>\n",
              "  </div>\n",
              "\n",
              "\n",
              "<div id=\"df-71f774f0-0e6c-4cf3-8627-7b2a0c3a704a\">\n",
              "  <button class=\"colab-df-quickchart\" onclick=\"quickchart('df-71f774f0-0e6c-4cf3-8627-7b2a0c3a704a')\"\n",
              "            title=\"Suggest charts\"\n",
              "            style=\"display:none;\">\n",
              "\n",
              "<svg xmlns=\"http://www.w3.org/2000/svg\" height=\"24px\"viewBox=\"0 0 24 24\"\n",
              "     width=\"24px\">\n",
              "    <g>\n",
              "        <path d=\"M19 3H5c-1.1 0-2 .9-2 2v14c0 1.1.9 2 2 2h14c1.1 0 2-.9 2-2V5c0-1.1-.9-2-2-2zM9 17H7v-7h2v7zm4 0h-2V7h2v10zm4 0h-2v-4h2v4z\"/>\n",
              "    </g>\n",
              "</svg>\n",
              "  </button>\n",
              "\n",
              "<style>\n",
              "  .colab-df-quickchart {\n",
              "      --bg-color: #E8F0FE;\n",
              "      --fill-color: #1967D2;\n",
              "      --hover-bg-color: #E2EBFA;\n",
              "      --hover-fill-color: #174EA6;\n",
              "      --disabled-fill-color: #AAA;\n",
              "      --disabled-bg-color: #DDD;\n",
              "  }\n",
              "\n",
              "  [theme=dark] .colab-df-quickchart {\n",
              "      --bg-color: #3B4455;\n",
              "      --fill-color: #D2E3FC;\n",
              "      --hover-bg-color: #434B5C;\n",
              "      --hover-fill-color: #FFFFFF;\n",
              "      --disabled-bg-color: #3B4455;\n",
              "      --disabled-fill-color: #666;\n",
              "  }\n",
              "\n",
              "  .colab-df-quickchart {\n",
              "    background-color: var(--bg-color);\n",
              "    border: none;\n",
              "    border-radius: 50%;\n",
              "    cursor: pointer;\n",
              "    display: none;\n",
              "    fill: var(--fill-color);\n",
              "    height: 32px;\n",
              "    padding: 0;\n",
              "    width: 32px;\n",
              "  }\n",
              "\n",
              "  .colab-df-quickchart:hover {\n",
              "    background-color: var(--hover-bg-color);\n",
              "    box-shadow: 0 1px 2px rgba(60, 64, 67, 0.3), 0 1px 3px 1px rgba(60, 64, 67, 0.15);\n",
              "    fill: var(--button-hover-fill-color);\n",
              "  }\n",
              "\n",
              "  .colab-df-quickchart-complete:disabled,\n",
              "  .colab-df-quickchart-complete:disabled:hover {\n",
              "    background-color: var(--disabled-bg-color);\n",
              "    fill: var(--disabled-fill-color);\n",
              "    box-shadow: none;\n",
              "  }\n",
              "\n",
              "  .colab-df-spinner {\n",
              "    border: 2px solid var(--fill-color);\n",
              "    border-color: transparent;\n",
              "    border-bottom-color: var(--fill-color);\n",
              "    animation:\n",
              "      spin 1s steps(1) infinite;\n",
              "  }\n",
              "\n",
              "  @keyframes spin {\n",
              "    0% {\n",
              "      border-color: transparent;\n",
              "      border-bottom-color: var(--fill-color);\n",
              "      border-left-color: var(--fill-color);\n",
              "    }\n",
              "    20% {\n",
              "      border-color: transparent;\n",
              "      border-left-color: var(--fill-color);\n",
              "      border-top-color: var(--fill-color);\n",
              "    }\n",
              "    30% {\n",
              "      border-color: transparent;\n",
              "      border-left-color: var(--fill-color);\n",
              "      border-top-color: var(--fill-color);\n",
              "      border-right-color: var(--fill-color);\n",
              "    }\n",
              "    40% {\n",
              "      border-color: transparent;\n",
              "      border-right-color: var(--fill-color);\n",
              "      border-top-color: var(--fill-color);\n",
              "    }\n",
              "    60% {\n",
              "      border-color: transparent;\n",
              "      border-right-color: var(--fill-color);\n",
              "    }\n",
              "    80% {\n",
              "      border-color: transparent;\n",
              "      border-right-color: var(--fill-color);\n",
              "      border-bottom-color: var(--fill-color);\n",
              "    }\n",
              "    90% {\n",
              "      border-color: transparent;\n",
              "      border-bottom-color: var(--fill-color);\n",
              "    }\n",
              "  }\n",
              "</style>\n",
              "\n",
              "  <script>\n",
              "    async function quickchart(key) {\n",
              "      const quickchartButtonEl =\n",
              "        document.querySelector('#' + key + ' button');\n",
              "      quickchartButtonEl.disabled = true;  // To prevent multiple clicks.\n",
              "      quickchartButtonEl.classList.add('colab-df-spinner');\n",
              "      try {\n",
              "        const charts = await google.colab.kernel.invokeFunction(\n",
              "            'suggestCharts', [key], {});\n",
              "      } catch (error) {\n",
              "        console.error('Error during call to suggestCharts:', error);\n",
              "      }\n",
              "      quickchartButtonEl.classList.remove('colab-df-spinner');\n",
              "      quickchartButtonEl.classList.add('colab-df-quickchart-complete');\n",
              "    }\n",
              "    (() => {\n",
              "      let quickchartButtonEl =\n",
              "        document.querySelector('#df-71f774f0-0e6c-4cf3-8627-7b2a0c3a704a button');\n",
              "      quickchartButtonEl.style.display =\n",
              "        google.colab.kernel.accessAllowed ? 'block' : 'none';\n",
              "    })();\n",
              "  </script>\n",
              "</div>\n",
              "\n",
              "  <div id=\"id_5719e0bc-b545-4b4e-9ad8-a1740b88f72a\">\n",
              "    <style>\n",
              "      .colab-df-generate {\n",
              "        background-color: #E8F0FE;\n",
              "        border: none;\n",
              "        border-radius: 50%;\n",
              "        cursor: pointer;\n",
              "        display: none;\n",
              "        fill: #1967D2;\n",
              "        height: 32px;\n",
              "        padding: 0 0 0 0;\n",
              "        width: 32px;\n",
              "      }\n",
              "\n",
              "      .colab-df-generate:hover {\n",
              "        background-color: #E2EBFA;\n",
              "        box-shadow: 0px 1px 2px rgba(60, 64, 67, 0.3), 0px 1px 3px 1px rgba(60, 64, 67, 0.15);\n",
              "        fill: #174EA6;\n",
              "      }\n",
              "\n",
              "      [theme=dark] .colab-df-generate {\n",
              "        background-color: #3B4455;\n",
              "        fill: #D2E3FC;\n",
              "      }\n",
              "\n",
              "      [theme=dark] .colab-df-generate:hover {\n",
              "        background-color: #434B5C;\n",
              "        box-shadow: 0px 1px 3px 1px rgba(0, 0, 0, 0.15);\n",
              "        filter: drop-shadow(0px 1px 2px rgba(0, 0, 0, 0.3));\n",
              "        fill: #FFFFFF;\n",
              "      }\n",
              "    </style>\n",
              "    <button class=\"colab-df-generate\" onclick=\"generateWithVariable('null_columns_data')\"\n",
              "            title=\"Generate code using this dataframe.\"\n",
              "            style=\"display:none;\">\n",
              "\n",
              "  <svg xmlns=\"http://www.w3.org/2000/svg\" height=\"24px\"viewBox=\"0 0 24 24\"\n",
              "       width=\"24px\">\n",
              "    <path d=\"M7,19H8.4L18.45,9,17,7.55,7,17.6ZM5,21V16.75L18.45,3.32a2,2,0,0,1,2.83,0l1.4,1.43a1.91,1.91,0,0,1,.58,1.4,1.91,1.91,0,0,1-.58,1.4L9.25,21ZM18.45,9,17,7.55Zm-12,3A5.31,5.31,0,0,0,4.9,8.1,5.31,5.31,0,0,0,1,6.5,5.31,5.31,0,0,0,4.9,4.9,5.31,5.31,0,0,0,6.5,1,5.31,5.31,0,0,0,8.1,4.9,5.31,5.31,0,0,0,12,6.5,5.46,5.46,0,0,0,6.5,12Z\"/>\n",
              "  </svg>\n",
              "    </button>\n",
              "    <script>\n",
              "      (() => {\n",
              "      const buttonEl =\n",
              "        document.querySelector('#id_5719e0bc-b545-4b4e-9ad8-a1740b88f72a button.colab-df-generate');\n",
              "      buttonEl.style.display =\n",
              "        google.colab.kernel.accessAllowed ? 'block' : 'none';\n",
              "\n",
              "      buttonEl.onclick = () => {\n",
              "        google.colab.notebook.generateWithVariable('null_columns_data');\n",
              "      }\n",
              "      })();\n",
              "    </script>\n",
              "  </div>\n",
              "\n",
              "    </div>\n",
              "  </div>\n"
            ],
            "application/vnd.google.colaboratory.intrinsic+json": {
              "type": "dataframe",
              "variable_name": "null_columns_data",
              "summary": "{\n  \"name\": \"null_columns_data\",\n  \"rows\": 29,\n  \"fields\": [\n    {\n      \"column\": \"Null_Counts\",\n      \"properties\": {\n        \"dtype\": \"number\",\n        \"std\": 8966,\n        \"min\": 0,\n        \"max\": 21318,\n        \"num_unique_values\": 11,\n        \"samples\": [\n          21135,\n          0,\n          168\n        ],\n        \"semantic_type\": \"\",\n        \"description\": \"\"\n      }\n    },\n    {\n      \"column\": \"Percentage\",\n      \"properties\": {\n        \"dtype\": \"category\",\n        \"num_unique_values\": 11,\n        \"samples\": [\n          \"99.13%\",\n          \"0.00%\",\n          \"0.79%\"\n        ],\n        \"semantic_type\": \"\",\n        \"description\": \"\"\n      }\n    }\n  ]\n}"
            }
          },
          "metadata": {}
        }
      ]
    },
    {
      "cell_type": "markdown",
      "source": [
        "## Categorical Columns unique values(less than 10 unique value columns)"
      ],
      "metadata": {
        "id": "PngeM4RcM_Fy"
      }
    },
    {
      "cell_type": "markdown",
      "source": [],
      "metadata": {
        "id": "WCkFilOGL4V5"
      }
    },
    {
      "cell_type": "code",
      "source": [
        "#categorical unique values\n",
        "categorical_cols = order_history_df.select_dtypes(include=['object']).columns\n",
        "print(\"\\nUnique values in categorical columns:\")\n",
        "for col in categorical_cols:\n",
        "    print(\"------\"+str(col)+\"------\")\n",
        "    print(f\"{col}: {order_history_df[col].nunique()} unique values\")\n",
        "    if order_history_df[col].nunique() < 10:\n",
        "        print(order_history_df[col].value_counts())\n",
        "    print(\"-\" * 50)"
      ],
      "metadata": {
        "colab": {
          "base_uri": "https://localhost:8080/"
        },
        "id": "hZJVZVzM0J3_",
        "outputId": "dca0f3c7-c20e-44f4-f106-2d8c923d9580"
      },
      "execution_count": 12,
      "outputs": [
        {
          "output_type": "stream",
          "name": "stdout",
          "text": [
            "\n",
            "Unique values in categorical columns:\n",
            "------Restaurant name------\n",
            "Restaurant name: 6 unique values\n",
            "Restaurant name\n",
            "Aura Pizzas             14548\n",
            "Swaad                    6332\n",
            "Dilli Burger Adda         227\n",
            "Tandoori Junction         154\n",
            "The Chicken Junction       32\n",
            "Masala Junction            28\n",
            "Name: count, dtype: int64\n",
            "--------------------------------------------------\n",
            "------Subzone------\n",
            "Subzone: 8 unique values\n",
            "Subzone\n",
            "Greater Kailash 2 (GK2)    7380\n",
            "Sector 4                   6530\n",
            "DLF Phase 1                3686\n",
            "Sector 135                 2442\n",
            "Vasant Kunj                 920\n",
            "Shahdara                    360\n",
            "Chittaranjan Park             2\n",
            "Sikandarpur                   1\n",
            "Name: count, dtype: int64\n",
            "--------------------------------------------------\n",
            "------City------\n",
            "City: 1 unique values\n",
            "City\n",
            "Delhi NCR    21321\n",
            "Name: count, dtype: int64\n",
            "--------------------------------------------------\n",
            "------Order Placed At------\n",
            "Order Placed At: 19114 unique values\n",
            "--------------------------------------------------\n",
            "------Order Status------\n",
            "Order Status: 6 unique values\n",
            "Order Status\n",
            "Delivered           21131\n",
            "Rejected              158\n",
            "Returned               25\n",
            "Return cancelled        3\n",
            "Picked up               3\n",
            "Timed out               1\n",
            "Name: count, dtype: int64\n",
            "--------------------------------------------------\n",
            "------Delivery------\n",
            "Delivery: 1 unique values\n",
            "Delivery\n",
            "Zomato Delivery    21321\n",
            "Name: count, dtype: int64\n",
            "--------------------------------------------------\n",
            "------Distance------\n",
            "Distance: 22 unique values\n",
            "--------------------------------------------------\n",
            "------Items in order------\n",
            "Items in order: 6123 unique values\n",
            "--------------------------------------------------\n",
            "------Instructions------\n",
            "Instructions: 631 unique values\n",
            "--------------------------------------------------\n",
            "------Discount construct------\n",
            "Discount construct: 527 unique values\n",
            "--------------------------------------------------\n",
            "------Review------\n",
            "Review: 293 unique values\n",
            "--------------------------------------------------\n",
            "------Cancellation / Rejection reason------\n",
            "Cancellation / Rejection reason: 5 unique values\n",
            "Cancellation / Rejection reason\n",
            "Cancelled by Customer    89\n",
            "Cancelled by Zomato      81\n",
            "Merchant device issue    12\n",
            "Kitchen is full           3\n",
            "Items out of stock        1\n",
            "Name: count, dtype: int64\n",
            "--------------------------------------------------\n",
            "------Order Ready Marked------\n",
            "Order Ready Marked: 3 unique values\n",
            "Order Ready Marked\n",
            "Correctly      19087\n",
            "Incorrectly     1895\n",
            "Missed           339\n",
            "Name: count, dtype: int64\n",
            "--------------------------------------------------\n",
            "------Customer complaint tag------\n",
            "Customer complaint tag: 5 unique values\n",
            "Customer complaint tag\n",
            "Non-refunded complaint              157\n",
            "Poor taste or quality               120\n",
            "Poor packaging or spillage          104\n",
            "Wrong item(s) delivered              48\n",
            "Item(s) missing or not delivered     40\n",
            "Name: count, dtype: int64\n",
            "--------------------------------------------------\n",
            "------Customer ID------\n",
            "Customer ID: 11607 unique values\n",
            "--------------------------------------------------\n"
          ]
        }
      ]
    },
    {
      "source": [
        "import seaborn as sns\n",
        "import matplotlib.pyplot as plt\n",
        "\n",
        "categorical_cols = order_history_df.select_dtypes(include=['object']).columns\n",
        "\n",
        "for col in categorical_cols:\n",
        "    print(f\"{col}: {order_history_df[col].nunique()} unique values\")\n",
        "\n",
        "    #plot for columns with less than 10 unique values\n",
        "    if order_history_df[col].nunique() < 10:\n",
        "        plt.figure(figsize=(10, 5))\n",
        "        sns.countplot(data=order_history_df, x=col)\n",
        "        plt.title(f'Distribution of {col}')\n",
        "        plt.xticks(rotation=45, ha='right')\n",
        "        plt.show()\n",
        "    else:\n",
        "        print(f\"Skipping plot for {col} as it has more than 10 unique values.\")\n",
        "\n",
        "    print(\"-\" * 50)"
      ],
      "cell_type": "code",
      "metadata": {
        "colab": {
          "base_uri": "https://localhost:8080/",
          "height": 1000
        },
        "id": "SoQp5IIT2hpy",
        "outputId": "9bfa910c-64d9-4326-db26-bbe0ac0fe74b"
      },
      "execution_count": 10,
      "outputs": [
        {
          "output_type": "stream",
          "name": "stdout",
          "text": [
            "Restaurant name: 6 unique values\n"
          ]
        },
        {
          "output_type": "display_data",
          "data": {
            "text/plain": [
              "<Figure size 1000x500 with 1 Axes>"
            ],
            "image/png": "[encoded data removed]"
          },
          "metadata": {}
        },
        {
          "output_type": "stream",
          "name": "stdout",
          "text": [
            "--------------------------------------------------\n",
            "Subzone: 8 unique values\n"
          ]
        },
        {
          "output_type": "display_data",
          "data": {
            "text/plain": [
              "<Figure size 1000x500 with 1 Axes>"
            ],
            "image/png": "[encoded data removed]"
          },
          "metadata": {}
        },
        {
          "output_type": "stream",
          "name": "stdout",
          "text": [
            "--------------------------------------------------\n",
            "City: 1 unique values\n"
          ]
        },
        {
          "output_type": "display_data",
          "data": {
            "text/plain": [
              "<Figure size 1000x500 with 1 Axes>"
            ],
            "image/png": "[encoded data removed]"
          },
          "metadata": {}
        },
        {
          "output_type": "stream",
          "name": "stdout",
          "text": [
            "--------------------------------------------------\n",
            "Order Placed At: 19114 unique values\n",
            "Skipping plot for Order Placed At as it has more than 10 unique values.\n",
            "--------------------------------------------------\n",
            "Order Status: 6 unique values\n"
          ]
        },
        {
          "output_type": "display_data",
          "data": {
            "text/plain": [
              "<Figure size 1000x500 with 1 Axes>"
            ],
            "image/png": "[encoded data removed]"
          },
          "metadata": {}
        },
        {
          "output_type": "stream",
          "name": "stdout",
          "text": [
            "--------------------------------------------------\n",
            "Delivery: 1 unique values\n"
          ]
        },
        {
          "output_type": "display_data",
          "data": {
            "text/plain": [
              "<Figure size 1000x500 with 1 Axes>"
            ],
            "image/png": "[encoded data removed]"
          },
          "metadata": {}
        },
        {
          "output_type": "stream",
          "name": "stdout",
          "text": [
            "--------------------------------------------------\n",
            "Distance: 22 unique values\n",
            "Skipping plot for Distance as it has more than 10 unique values.\n",
            "--------------------------------------------------\n",
            "Items in order: 6123 unique values\n",
            "Skipping plot for Items in order as it has more than 10 unique values.\n",
            "--------------------------------------------------\n",
            "Instructions: 631 unique values\n",
            "Skipping plot for Instructions as it has more than 10 unique values.\n",
            "--------------------------------------------------\n",
            "Discount construct: 527 unique values\n",
            "Skipping plot for Discount construct as it has more than 10 unique values.\n",
            "--------------------------------------------------\n",
            "Review: 293 unique values\n",
            "Skipping plot for Review as it has more than 10 unique values.\n",
            "--------------------------------------------------\n",
            "Cancellation / Rejection reason: 5 unique values\n"
          ]
        },
        {
          "output_type": "display_data",
          "data": {
            "text/plain": [
              "<Figure size 1000x500 with 1 Axes>"
            ],
            "image/png": "[encoded data removed]"
          },
          "metadata": {}
        },
        {
          "output_type": "stream",
          "name": "stdout",
          "text": [
            "--------------------------------------------------\n",
            "Order Ready Marked: 3 unique values\n"
          ]
        },
        {
          "output_type": "display_data",
          "data": {
            "text/plain": [
              "<Figure size 1000x500 with 1 Axes>"
            ],
            "image/png": "[encoded data removed]"
          },
          "metadata": {}
        },
        {
          "output_type": "stream",
          "name": "stdout",
          "text": [
            "--------------------------------------------------\n",
            "Customer complaint tag: 5 unique values\n"
          ]
        },
        {
          "output_type": "display_data",
          "data": {
            "text/plain": [
              "<Figure size 1000x500 with 1 Axes>"
            ],
            "image/png": "[encoded data removed]"
          },
          "metadata": {}
        },
        {
          "output_type": "stream",
          "name": "stdout",
          "text": [
            "--------------------------------------------------\n",
            "Customer ID: 11607 unique values\n",
            "Skipping plot for Customer ID as it has more than 10 unique values.\n",
            "--------------------------------------------------\n"
          ]
        }
      ]
    },
    {
      "cell_type": "markdown",
      "source": [
        "## Refactoring column name"
      ],
      "metadata": {
        "id": "o3RS1a0cNQkQ"
      }
    },
    {
      "source": [
        "\n",
        "import re\n",
        "\n",
        "def clean_column_names(df):\n",
        "    existing_columns = df.columns\n",
        "    new_columns = [re.sub(r'[^a-zA-Z0-9_]', '_', col.replace(\" \", \"_\").lower()) for col in existing_columns]\n",
        "    new_columns = [re.sub(r'_{2,}', '_', col) for col in new_columns]\n",
        "    new_columns = [col.rstrip('_') for col in new_columns]  # Remove trailing underscores\n",
        "    df.columns = new_columns\n",
        "    return df\n",
        "\n",
        "order_history_df = clean_column_names(order_history_df)"
      ],
      "cell_type": "code",
      "metadata": {
        "id": "XfBkwpQy71E1"
      },
      "execution_count": 11,
      "outputs": []
    },
    {
      "cell_type": "code",
      "source": [
        "order_history_df.columns"
      ],
      "metadata": {
        "colab": {
          "base_uri": "https://localhost:8080/"
        },
        "id": "tybpQoG_6u_r",
        "outputId": "2c9e434e-cd41-4126-d788-ff095b40cae3"
      },
      "execution_count": 12,
      "outputs": [
        {
          "output_type": "execute_result",
          "data": {
            "text/plain": [
              "Index(['restaurant_id', 'restaurant_name', 'subzone', 'city', 'order_id',\n",
              "       'order_placed_at', 'order_status', 'delivery', 'distance',\n",
              "       'items_in_order', 'instructions', 'discount_construct', 'bill_subtotal',\n",
              "       'packaging_charges', 'restaurant_discount_promo',\n",
              "       'restaurant_discount_flat_offs_freebies_others', 'gold_discount',\n",
              "       'brand_pack_discount', 'total', 'rating', 'review',\n",
              "       'cancellation_rejection_reason', 'restaurant_compensation_cancellation',\n",
              "       'restaurant_penalty_rejection', 'kpt_duration_minutes',\n",
              "       'rider_wait_time_minutes', 'order_ready_marked',\n",
              "       'customer_complaint_tag', 'customer_id'],\n",
              "      dtype='object')"
            ]
          },
          "metadata": {},
          "execution_count": 12
        }
      ]
    },
    {
      "cell_type": "markdown",
      "source": [
        "## Formating date column"
      ],
      "metadata": {
        "id": "V5EYDmDCNge-"
      }
    },
    {
      "source": [
        "from datetime import datetime\n",
        "\n",
        "def convert_to_datetime(date_string):\n",
        "    \"\"\"Converts a date string in the format '1:38 PM, September 10 2024' to a datetime object.\"\"\"\n",
        "    try:\n",
        "        return datetime.strptime(date_string, '%I:%M %p, %B %d %Y')\n",
        "    except ValueError:\n",
        "        print(f\"Invalid date string format: {date_string}\")\n",
        "        return None\n",
        "\n",
        "# Apply the function to the 'order_date' column\n",
        "order_history_df['order_placed_at'] = order_history_df['order_placed_at'].apply(convert_to_datetime)"
      ],
      "cell_type": "code",
      "metadata": {
        "id": "y3tbEqJo8zJ_"
      },
      "execution_count": 13,
      "outputs": []
    },
    {
      "cell_type": "code",
      "source": [
        "order_history_df.head(5)"
      ],
      "metadata": {
        "colab": {
          "base_uri": "https://localhost:8080/",
          "height": 0
        },
        "id": "Z5maQao175Xy",
        "outputId": "7ddab4bb-a8ba-4082-f6b3-adebb8b91746"
      },
      "execution_count": 14,
      "outputs": [
        {
          "output_type": "execute_result",
          "data": {
            "text/plain": [
              "   restaurant_id restaurant_name   subzone       city    order_id  \\\n",
              "0       20320607           Swaad  Sector 4  Delhi NCR  6168884918   \n",
              "1       20320607           Swaad  Sector 4  Delhi NCR  6170707559   \n",
              "2       20320607           Swaad  Sector 4  Delhi NCR  6169375019   \n",
              "3       20320607           Swaad  Sector 4  Delhi NCR  6151677434   \n",
              "4       20320607           Swaad  Sector 4  Delhi NCR  6167540897   \n",
              "\n",
              "      order_placed_at order_status         delivery distance  \\\n",
              "0 2024-09-10 23:38:00    Delivered  Zomato Delivery      3km   \n",
              "1 2024-09-10 23:34:00    Delivered  Zomato Delivery      2km   \n",
              "2 2024-09-10 15:52:00    Delivered  Zomato Delivery     <1km   \n",
              "3 2024-09-10 15:45:00    Delivered  Zomato Delivery      2km   \n",
              "4 2024-09-10 15:04:00    Delivered  Zomato Delivery      2km   \n",
              "\n",
              "                                      items_in_order  ... rating review  \\\n",
              "0  1 x Grilled Chicken Jamaican Tender, 1 x Grill...  ...    NaN    NaN   \n",
              "1  1 x Peri Peri Fries, 1 x Fried Chicken Angara ...  ...    NaN    NaN   \n",
              "2              1 x Bone in Peri Peri Grilled Chicken  ...    NaN    NaN   \n",
              "3  1 x Fried Chicken Ghostbuster Tender, 1 x Anga...  ...    4.0    NaN   \n",
              "4  1 x Peri Peri Krispers, 1 x Fried Chicken Anga...  ...    NaN    NaN   \n",
              "\n",
              "   cancellation_rejection_reason  restaurant_compensation_cancellation  \\\n",
              "0                            NaN                                   NaN   \n",
              "1                            NaN                                   NaN   \n",
              "2                            NaN                                   NaN   \n",
              "3                            NaN                                   NaN   \n",
              "4                            NaN                                   NaN   \n",
              "\n",
              "   restaurant_penalty_rejection  kpt_duration_minutes  \\\n",
              "0                           NaN                 18.35   \n",
              "1                           NaN                 16.95   \n",
              "2                           NaN                 14.05   \n",
              "3                           NaN                 19.00   \n",
              "4                           NaN                 15.97   \n",
              "\n",
              "   rider_wait_time_minutes  order_ready_marked  customer_complaint_tag  \\\n",
              "0                     11.6           Correctly                     NaN   \n",
              "1                      3.6           Correctly                     NaN   \n",
              "2                     12.2           Correctly                     NaN   \n",
              "3                      3.3           Correctly                     NaN   \n",
              "4                      1.0           Correctly                     NaN   \n",
              "\n",
              "                                         customer_id  \n",
              "0  5d6c2b96db963098bc69768bea504c8bf46106a8a5178e...  \n",
              "1  0781815deb4a10a574e9fee4fa0b86b074d4a0b36175d5...  \n",
              "2  f93362f5ce5382657482d164e368186bcec9c6225fd93d...  \n",
              "3  1ed226d1b8a5f7acee12fc1d6676558330a3b2b742af5d...  \n",
              "4  d21a2ac6ea06b31cc3288ab20c4ef2f292066c096f2c5f...  \n",
              "\n",
              "[5 rows x 29 columns]"
            ],
            "text/html": [
              "\n",
              "  <div id=\"df-755c32d1-313e-49ef-a06c-a2d668a12127\" class=\"colab-df-container\">\n",
              "    <div>\n",
              "<style scoped>\n",
              "    .dataframe tbody tr th:only-of-type {\n",
              "        vertical-align: middle;\n",
              "    }\n",
              "\n",
              "    .dataframe tbody tr th {\n",
              "        vertical-align: top;\n",
              "    }\n",
              "\n",
              "    .dataframe thead th {\n",
              "        text-align: right;\n",
              "    }\n",
              "</style>\n",
              "<table border=\"1\" class=\"dataframe\">\n",
              "  <thead>\n",
              "    <tr style=\"text-align: right;\">\n",
              "      <th></th>\n",
              "      <th>restaurant_id</th>\n",
              "      <th>restaurant_name</th>\n",
              "      <th>subzone</th>\n",
              "      <th>city</th>\n",
              "      <th>order_id</th>\n",
              "      <th>order_placed_at</th>\n",
              "      <th>order_status</th>\n",
              "      <th>delivery</th>\n",
              "      <th>distance</th>\n",
              "      <th>items_in_order</th>\n",
              "      <th>...</th>\n",
              "      <th>rating</th>\n",
              "      <th>review</th>\n",
              "      <th>cancellation_rejection_reason</th>\n",
              "      <th>restaurant_compensation_cancellation</th>\n",
              "      <th>restaurant_penalty_rejection</th>\n",
              "      <th>kpt_duration_minutes</th>\n",
              "      <th>rider_wait_time_minutes</th>\n",
              "      <th>order_ready_marked</th>\n",
              "      <th>customer_complaint_tag</th>\n",
              "      <th>customer_id</th>\n",
              "    </tr>\n",
              "  </thead>\n",
              "  <tbody>\n",
              "    <tr>\n",
              "      <th>0</th>\n",
              "      <td>20320607</td>\n",
              "      <td>Swaad</td>\n",
              "      <td>Sector 4</td>\n",
              "      <td>Delhi NCR</td>\n",
              "      <td>6168884918</td>\n",
              "      <td>2024-09-10 23:38:00</td>\n",
              "      <td>Delivered</td>\n",
              "      <td>Zomato Delivery</td>\n",
              "      <td>3km</td>\n",
              "      <td>1 x Grilled Chicken Jamaican Tender, 1 x Grill...</td>\n",
              "      <td>...</td>\n",
              "      <td>NaN</td>\n",
              "      <td>NaN</td>\n",
              "      <td>NaN</td>\n",
              "      <td>NaN</td>\n",
              "      <td>NaN</td>\n",
              "      <td>18.35</td>\n",
              "      <td>11.6</td>\n",
              "      <td>Correctly</td>\n",
              "      <td>NaN</td>\n",
              "      <td>5d6c2b96db963098bc69768bea504c8bf46106a8a5178e...</td>\n",
              "    </tr>\n",
              "    <tr>\n",
              "      <th>1</th>\n",
              "      <td>20320607</td>\n",
              "      <td>Swaad</td>\n",
              "      <td>Sector 4</td>\n",
              "      <td>Delhi NCR</td>\n",
              "      <td>6170707559</td>\n",
              "      <td>2024-09-10 23:34:00</td>\n",
              "      <td>Delivered</td>\n",
              "      <td>Zomato Delivery</td>\n",
              "      <td>2km</td>\n",
              "      <td>1 x Peri Peri Fries, 1 x Fried Chicken Angara ...</td>\n",
              "      <td>...</td>\n",
              "      <td>NaN</td>\n",
              "      <td>NaN</td>\n",
              "      <td>NaN</td>\n",
              "      <td>NaN</td>\n",
              "      <td>NaN</td>\n",
              "      <td>16.95</td>\n",
              "      <td>3.6</td>\n",
              "      <td>Correctly</td>\n",
              "      <td>NaN</td>\n",
              "      <td>0781815deb4a10a574e9fee4fa0b86b074d4a0b36175d5...</td>\n",
              "    </tr>\n",
              "    <tr>\n",
              "      <th>2</th>\n",
              "      <td>20320607</td>\n",
              "      <td>Swaad</td>\n",
              "      <td>Sector 4</td>\n",
              "      <td>Delhi NCR</td>\n",
              "      <td>6169375019</td>\n",
              "      <td>2024-09-10 15:52:00</td>\n",
              "      <td>Delivered</td>\n",
              "      <td>Zomato Delivery</td>\n",
              "      <td>&lt;1km</td>\n",
              "      <td>1 x Bone in Peri Peri Grilled Chicken</td>\n",
              "      <td>...</td>\n",
              "      <td>NaN</td>\n",
              "      <td>NaN</td>\n",
              "      <td>NaN</td>\n",
              "      <td>NaN</td>\n",
              "      <td>NaN</td>\n",
              "      <td>14.05</td>\n",
              "      <td>12.2</td>\n",
              "      <td>Correctly</td>\n",
              "      <td>NaN</td>\n",
              "      <td>f93362f5ce5382657482d164e368186bcec9c6225fd93d...</td>\n",
              "    </tr>\n",
              "    <tr>\n",
              "      <th>3</th>\n",
              "      <td>20320607</td>\n",
              "      <td>Swaad</td>\n",
              "      <td>Sector 4</td>\n",
              "      <td>Delhi NCR</td>\n",
              "      <td>6151677434</td>\n",
              "      <td>2024-09-10 15:45:00</td>\n",
              "      <td>Delivered</td>\n",
              "      <td>Zomato Delivery</td>\n",
              "      <td>2km</td>\n",
              "      <td>1 x Fried Chicken Ghostbuster Tender, 1 x Anga...</td>\n",
              "      <td>...</td>\n",
              "      <td>4.0</td>\n",
              "      <td>NaN</td>\n",
              "      <td>NaN</td>\n",
              "      <td>NaN</td>\n",
              "      <td>NaN</td>\n",
              "      <td>19.00</td>\n",
              "      <td>3.3</td>\n",
              "      <td>Correctly</td>\n",
              "      <td>NaN</td>\n",
              "      <td>1ed226d1b8a5f7acee12fc1d6676558330a3b2b742af5d...</td>\n",
              "    </tr>\n",
              "    <tr>\n",
              "      <th>4</th>\n",
              "      <td>20320607</td>\n",
              "      <td>Swaad</td>\n",
              "      <td>Sector 4</td>\n",
              "      <td>Delhi NCR</td>\n",
              "      <td>6167540897</td>\n",
              "      <td>2024-09-10 15:04:00</td>\n",
              "      <td>Delivered</td>\n",
              "      <td>Zomato Delivery</td>\n",
              "      <td>2km</td>\n",
              "      <td>1 x Peri Peri Krispers, 1 x Fried Chicken Anga...</td>\n",
              "      <td>...</td>\n",
              "      <td>NaN</td>\n",
              "      <td>NaN</td>\n",
              "      <td>NaN</td>\n",
              "      <td>NaN</td>\n",
              "      <td>NaN</td>\n",
              "      <td>15.97</td>\n",
              "      <td>1.0</td>\n",
              "      <td>Correctly</td>\n",
              "      <td>NaN</td>\n",
              "      <td>d21a2ac6ea06b31cc3288ab20c4ef2f292066c096f2c5f...</td>\n",
              "    </tr>\n",
              "  </tbody>\n",
              "</table>\n",
              "<p>5 rows × 29 columns</p>\n",
              "</div>\n",
              "    <div class=\"colab-df-buttons\">\n",
              "\n",
              "  <div class=\"colab-df-container\">\n",
              "    <button class=\"colab-df-convert\" onclick=\"convertToInteractive('df-755c32d1-313e-49ef-a06c-a2d668a12127')\"\n",
              "            title=\"Convert this dataframe to an interactive table.\"\n",
              "            style=\"display:none;\">\n",
              "\n",
              "  <svg xmlns=\"http://www.w3.org/2000/svg\" height=\"24px\" viewBox=\"0 -960 960 960\">\n",
              "    <path d=\"M120-120v-720h720v720H120Zm60-500h600v-160H180v160Zm220 220h160v-160H400v160Zm0 220h160v-160H400v160ZM180-400h160v-160H180v160Zm440 0h160v-160H620v160ZM180-180h160v-160H180v160Zm440 0h160v-160H620v160Z\"/>\n",
              "  </svg>\n",
              "    </button>\n",
              "\n",
              "  <style>\n",
              "    .colab-df-container {\n",
              "      display:flex;\n",
              "      gap: 12px;\n",
              "    }\n",
              "\n",
              "    .colab-df-convert {\n",
              "      background-color: #E8F0FE;\n",
              "      border: none;\n",
              "      border-radius: 50%;\n",
              "      cursor: pointer;\n",
              "      display: none;\n",
              "      fill: #1967D2;\n",
              "      height: 32px;\n",
              "      padding: 0 0 0 0;\n",
              "      width: 32px;\n",
              "    }\n",
              "\n",
              "    .colab-df-convert:hover {\n",
              "      background-color: #E2EBFA;\n",
              "      box-shadow: 0px 1px 2px rgba(60, 64, 67, 0.3), 0px 1px 3px 1px rgba(60, 64, 67, 0.15);\n",
              "      fill: #174EA6;\n",
              "    }\n",
              "\n",
              "    .colab-df-buttons div {\n",
              "      margin-bottom: 4px;\n",
              "    }\n",
              "\n",
              "    [theme=dark] .colab-df-convert {\n",
              "      background-color: #3B4455;\n",
              "      fill: #D2E3FC;\n",
              "    }\n",
              "\n",
              "    [theme=dark] .colab-df-convert:hover {\n",
              "      background-color: #434B5C;\n",
              "      box-shadow: 0px 1px 3px 1px rgba(0, 0, 0, 0.15);\n",
              "      filter: drop-shadow(0px 1px 2px rgba(0, 0, 0, 0.3));\n",
              "      fill: #FFFFFF;\n",
              "    }\n",
              "  </style>\n",
              "\n",
              "    <script>\n",
              "      const buttonEl =\n",
              "        document.querySelector('#df-755c32d1-313e-49ef-a06c-a2d668a12127 button.colab-df-convert');\n",
              "      buttonEl.style.display =\n",
              "        google.colab.kernel.accessAllowed ? 'block' : 'none';\n",
              "\n",
              "      async function convertToInteractive(key) {\n",
              "        const element = document.querySelector('#df-755c32d1-313e-49ef-a06c-a2d668a12127');\n",
              "        const dataTable =\n",
              "          await google.colab.kernel.invokeFunction('convertToInteractive',\n",
              "                                                    [key], {});\n",
              "        if (!dataTable) return;\n",
              "\n",
              "        const docLinkHtml = 'Like what you see? Visit the ' +\n",
              "          '<a target=\"_blank\" href=https://colab.research.google.com/notebooks/data_table.ipynb>data table notebook</a>'\n",
              "          + ' to learn more about interactive tables.';\n",
              "        element.innerHTML = '';\n",
              "        dataTable['output_type'] = 'display_data';\n",
              "        await google.colab.output.renderOutput(dataTable, element);\n",
              "        const docLink = document.createElement('div');\n",
              "        docLink.innerHTML = docLinkHtml;\n",
              "        element.appendChild(docLink);\n",
              "      }\n",
              "    </script>\n",
              "  </div>\n",
              "\n",
              "\n",
              "<div id=\"df-4cc4ecbf-8b4c-40a9-8c71-2fa1db31dafe\">\n",
              "  <button class=\"colab-df-quickchart\" onclick=\"quickchart('df-4cc4ecbf-8b4c-40a9-8c71-2fa1db31dafe')\"\n",
              "            title=\"Suggest charts\"\n",
              "            style=\"display:none;\">\n",
              "\n",
              "<svg xmlns=\"http://www.w3.org/2000/svg\" height=\"24px\"viewBox=\"0 0 24 24\"\n",
              "     width=\"24px\">\n",
              "    <g>\n",
              "        <path d=\"M19 3H5c-1.1 0-2 .9-2 2v14c0 1.1.9 2 2 2h14c1.1 0 2-.9 2-2V5c0-1.1-.9-2-2-2zM9 17H7v-7h2v7zm4 0h-2V7h2v10zm4 0h-2v-4h2v4z\"/>\n",
              "    </g>\n",
              "</svg>\n",
              "  </button>\n",
              "\n",
              "<style>\n",
              "  .colab-df-quickchart {\n",
              "      --bg-color: #E8F0FE;\n",
              "      --fill-color: #1967D2;\n",
              "      --hover-bg-color: #E2EBFA;\n",
              "      --hover-fill-color: #174EA6;\n",
              "      --disabled-fill-color: #AAA;\n",
              "      --disabled-bg-color: #DDD;\n",
              "  }\n",
              "\n",
              "  [theme=dark] .colab-df-quickchart {\n",
              "      --bg-color: #3B4455;\n",
              "      --fill-color: #D2E3FC;\n",
              "      --hover-bg-color: #434B5C;\n",
              "      --hover-fill-color: #FFFFFF;\n",
              "      --disabled-bg-color: #3B4455;\n",
              "      --disabled-fill-color: #666;\n",
              "  }\n",
              "\n",
              "  .colab-df-quickchart {\n",
              "    background-color: var(--bg-color);\n",
              "    border: none;\n",
              "    border-radius: 50%;\n",
              "    cursor: pointer;\n",
              "    display: none;\n",
              "    fill: var(--fill-color);\n",
              "    height: 32px;\n",
              "    padding: 0;\n",
              "    width: 32px;\n",
              "  }\n",
              "\n",
              "  .colab-df-quickchart:hover {\n",
              "    background-color: var(--hover-bg-color);\n",
              "    box-shadow: 0 1px 2px rgba(60, 64, 67, 0.3), 0 1px 3px 1px rgba(60, 64, 67, 0.15);\n",
              "    fill: var(--button-hover-fill-color);\n",
              "  }\n",
              "\n",
              "  .colab-df-quickchart-complete:disabled,\n",
              "  .colab-df-quickchart-complete:disabled:hover {\n",
              "    background-color: var(--disabled-bg-color);\n",
              "    fill: var(--disabled-fill-color);\n",
              "    box-shadow: none;\n",
              "  }\n",
              "\n",
              "  .colab-df-spinner {\n",
              "    border: 2px solid var(--fill-color);\n",
              "    border-color: transparent;\n",
              "    border-bottom-color: var(--fill-color);\n",
              "    animation:\n",
              "      spin 1s steps(1) infinite;\n",
              "  }\n",
              "\n",
              "  @keyframes spin {\n",
              "    0% {\n",
              "      border-color: transparent;\n",
              "      border-bottom-color: var(--fill-color);\n",
              "      border-left-color: var(--fill-color);\n",
              "    }\n",
              "    20% {\n",
              "      border-color: transparent;\n",
              "      border-left-color: var(--fill-color);\n",
              "      border-top-color: var(--fill-color);\n",
              "    }\n",
              "    30% {\n",
              "      border-color: transparent;\n",
              "      border-left-color: var(--fill-color);\n",
              "      border-top-color: var(--fill-color);\n",
              "      border-right-color: var(--fill-color);\n",
              "    }\n",
              "    40% {\n",
              "      border-color: transparent;\n",
              "      border-right-color: var(--fill-color);\n",
              "      border-top-color: var(--fill-color);\n",
              "    }\n",
              "    60% {\n",
              "      border-color: transparent;\n",
              "      border-right-color: var(--fill-color);\n",
              "    }\n",
              "    80% {\n",
              "      border-color: transparent;\n",
              "      border-right-color: var(--fill-color);\n",
              "      border-bottom-color: var(--fill-color);\n",
              "    }\n",
              "    90% {\n",
              "      border-color: transparent;\n",
              "      border-bottom-color: var(--fill-color);\n",
              "    }\n",
              "  }\n",
              "</style>\n",
              "\n",
              "  <script>\n",
              "    async function quickchart(key) {\n",
              "      const quickchartButtonEl =\n",
              "        document.querySelector('#' + key + ' button');\n",
              "      quickchartButtonEl.disabled = true;  // To prevent multiple clicks.\n",
              "      quickchartButtonEl.classList.add('colab-df-spinner');\n",
              "      try {\n",
              "        const charts = await google.colab.kernel.invokeFunction(\n",
              "            'suggestCharts', [key], {});\n",
              "      } catch (error) {\n",
              "        console.error('Error during call to suggestCharts:', error);\n",
              "      }\n",
              "      quickchartButtonEl.classList.remove('colab-df-spinner');\n",
              "      quickchartButtonEl.classList.add('colab-df-quickchart-complete');\n",
              "    }\n",
              "    (() => {\n",
              "      let quickchartButtonEl =\n",
              "        document.querySelector('#df-4cc4ecbf-8b4c-40a9-8c71-2fa1db31dafe button');\n",
              "      quickchartButtonEl.style.display =\n",
              "        google.colab.kernel.accessAllowed ? 'block' : 'none';\n",
              "    })();\n",
              "  </script>\n",
              "</div>\n",
              "\n",
              "    </div>\n",
              "  </div>\n"
            ],
            "application/vnd.google.colaboratory.intrinsic+json": {
              "type": "dataframe",
              "variable_name": "order_history_df"
            }
          },
          "metadata": {},
          "execution_count": 14
        }
      ]
    },
    {
      "cell_type": "markdown",
      "source": [
        "## Extraction of item counts from the items column"
      ],
      "metadata": {
        "id": "Texvt56GNpI5"
      }
    },
    {
      "source": [
        "import re\n",
        "import pandas as pd\n",
        "\n",
        "def extract_item_count(items_str):\n",
        "    \"\"\"Extracts the total item count from a string like '2 x itemA, 1 x itemB'.\"\"\"\n",
        "    if pd.isna(items_str) or items_str == \"\":\n",
        "        return 0\n",
        "\n",
        "    # Find all patterns like \"X x Item\"\n",
        "    matches = re.findall(r'(\\d+)\\s*x\\s*', items_str, re.IGNORECASE)\n",
        "\n",
        "    # Sum up all quantities, handling potential errors\n",
        "    count = 0\n",
        "    for match in matches:\n",
        "        try:\n",
        "            count += int(match)\n",
        "        except ValueError:\n",
        "            print(f\"Warning: Could not convert '{match}' to an integer.\")\n",
        "\n",
        "    return count\n",
        "\n",
        "order_history_df['item_count'] = order_history_df['items_in_order'].apply(extract_item_count)"
      ],
      "cell_type": "code",
      "metadata": {
        "id": "v6OqK8gW-K8C"
      },
      "execution_count": 15,
      "outputs": []
    },
    {
      "cell_type": "code",
      "source": [],
      "metadata": {
        "id": "AfF17QBhYF3K"
      },
      "execution_count": 15,
      "outputs": []
    },
    {
      "cell_type": "markdown",
      "source": [
        "## Generating total bill amount after discounts\n",
        "\n",
        "--- just for exploring the total logic"
      ],
      "metadata": {
        "id": "8eVSbBpjYRZK"
      }
    },
    {
      "cell_type": "markdown",
      "source": [],
      "metadata": {
        "id": "Fl4Q2uddYLiW"
      }
    },
    {
      "source": [
        "def calculate_total_discount(row):\n",
        "  \"\"\"\n",
        "  Calculates the total discount applied to an order, including all discount columns.\n",
        "\n",
        "  Args:\n",
        "    row: A row from the order_history_df_method2 DataFrame.\n",
        "\n",
        "  Returns:\n",
        "    The total discount amount.\n",
        "  \"\"\"\n",
        "  total_discount = 0\n",
        "  discount_columns = [\n",
        "      'gold_discount',\n",
        "      'restaurant_discount_promo',\n",
        "      'restaurant_discount_flat_offs_freebies_others',\n",
        "      'brand_pack_discount',\n",
        "      'restaurant_compensation_cancellation' # Added this potential discount\n",
        "  ]\n",
        "\n",
        "  for col in discount_columns:\n",
        "    if row[col] > 0:  # Check if the discount is greater than 0\n",
        "        total_discount += row[col]\n",
        "\n",
        "  return total_discount\n",
        "\n",
        "# Apply the function to create a new 'total_discount' column\n",
        "order_history_df['total_discount'] = order_history_df.apply(calculate_total_discount, axis=1)"
      ],
      "cell_type": "code",
      "metadata": {
        "id": "4aTmRUAFLw_q"
      },
      "execution_count": 50,
      "outputs": []
    },
    {
      "cell_type": "code",
      "source": [
        "import numpy as np\n",
        "order_history_df['discount_flag'] = np.where(order_history_df['bill_subtotal'] > order_history_df['total_discount'], 1, 0)"
      ],
      "metadata": {
        "id": "J7nl3ZNbNuPP"
      },
      "execution_count": 51,
      "outputs": []
    },
    {
      "source": [
        "filtered_df = order_history_df[order_history_df['discount_flag'] == 0]\n",
        "filtered_df[['discount_flag', 'bill_subtotal', 'total_discount']]  # Replace with your desired columns"
      ],
      "cell_type": "code",
      "metadata": {
        "colab": {
          "base_uri": "https://localhost:8080/",
          "height": 80
        },
        "id": "a0Mqp8tEO1_l",
        "outputId": "56a634e6-3d63-4dce-dcb7-208de49b6d6a"
      },
      "execution_count": 52,
      "outputs": [
        {
          "output_type": "execute_result",
          "data": {
            "text/plain": [
              "     discount_flag  bill_subtotal  total_discount\n",
              "320              0          409.0          424.45"
            ],
            "text/html": [
              "\n",
              "  <div id=\"df-02cfa578-108b-48bf-a1ff-fe933e34102c\" class=\"colab-df-container\">\n",
              "    <div>\n",
              "<style scoped>\n",
              "    .dataframe tbody tr th:only-of-type {\n",
              "        vertical-align: middle;\n",
              "    }\n",
              "\n",
              "    .dataframe tbody tr th {\n",
              "        vertical-align: top;\n",
              "    }\n",
              "\n",
              "    .dataframe thead th {\n",
              "        text-align: right;\n",
              "    }\n",
              "</style>\n",
              "<table border=\"1\" class=\"dataframe\">\n",
              "  <thead>\n",
              "    <tr style=\"text-align: right;\">\n",
              "      <th></th>\n",
              "      <th>discount_flag</th>\n",
              "      <th>bill_subtotal</th>\n",
              "      <th>total_discount</th>\n",
              "    </tr>\n",
              "  </thead>\n",
              "  <tbody>\n",
              "    <tr>\n",
              "      <th>320</th>\n",
              "      <td>0</td>\n",
              "      <td>409.0</td>\n",
              "      <td>424.45</td>\n",
              "    </tr>\n",
              "  </tbody>\n",
              "</table>\n",
              "</div>\n",
              "    <div class=\"colab-df-buttons\">\n",
              "\n",
              "  <div class=\"colab-df-container\">\n",
              "    <button class=\"colab-df-convert\" onclick=\"convertToInteractive('df-02cfa578-108b-48bf-a1ff-fe933e34102c')\"\n",
              "            title=\"Convert this dataframe to an interactive table.\"\n",
              "            style=\"display:none;\">\n",
              "\n",
              "  <svg xmlns=\"http://www.w3.org/2000/svg\" height=\"24px\" viewBox=\"0 -960 960 960\">\n",
              "    <path d=\"M120-120v-720h720v720H120Zm60-500h600v-160H180v160Zm220 220h160v-160H400v160Zm0 220h160v-160H400v160ZM180-400h160v-160H180v160Zm440 0h160v-160H620v160ZM180-180h160v-160H180v160Zm440 0h160v-160H620v160Z\"/>\n",
              "  </svg>\n",
              "    </button>\n",
              "\n",
              "  <style>\n",
              "    .colab-df-container {\n",
              "      display:flex;\n",
              "      gap: 12px;\n",
              "    }\n",
              "\n",
              "    .colab-df-convert {\n",
              "      background-color: #E8F0FE;\n",
              "      border: none;\n",
              "      border-radius: 50%;\n",
              "      cursor: pointer;\n",
              "      display: none;\n",
              "      fill: #1967D2;\n",
              "      height: 32px;\n",
              "      padding: 0 0 0 0;\n",
              "      width: 32px;\n",
              "    }\n",
              "\n",
              "    .colab-df-convert:hover {\n",
              "      background-color: #E2EBFA;\n",
              "      box-shadow: 0px 1px 2px rgba(60, 64, 67, 0.3), 0px 1px 3px 1px rgba(60, 64, 67, 0.15);\n",
              "      fill: #174EA6;\n",
              "    }\n",
              "\n",
              "    .colab-df-buttons div {\n",
              "      margin-bottom: 4px;\n",
              "    }\n",
              "\n",
              "    [theme=dark] .colab-df-convert {\n",
              "      background-color: #3B4455;\n",
              "      fill: #D2E3FC;\n",
              "    }\n",
              "\n",
              "    [theme=dark] .colab-df-convert:hover {\n",
              "      background-color: #434B5C;\n",
              "      box-shadow: 0px 1px 3px 1px rgba(0, 0, 0, 0.15);\n",
              "      filter: drop-shadow(0px 1px 2px rgba(0, 0, 0, 0.3));\n",
              "      fill: #FFFFFF;\n",
              "    }\n",
              "  </style>\n",
              "\n",
              "    <script>\n",
              "      const buttonEl =\n",
              "        document.querySelector('#df-02cfa578-108b-48bf-a1ff-fe933e34102c button.colab-df-convert');\n",
              "      buttonEl.style.display =\n",
              "        google.colab.kernel.accessAllowed ? 'block' : 'none';\n",
              "\n",
              "      async function convertToInteractive(key) {\n",
              "        const element = document.querySelector('#df-02cfa578-108b-48bf-a1ff-fe933e34102c');\n",
              "        const dataTable =\n",
              "          await google.colab.kernel.invokeFunction('convertToInteractive',\n",
              "                                                    [key], {});\n",
              "        if (!dataTable) return;\n",
              "\n",
              "        const docLinkHtml = 'Like what you see? Visit the ' +\n",
              "          '<a target=\"_blank\" href=https://colab.research.google.com/notebooks/data_table.ipynb>data table notebook</a>'\n",
              "          + ' to learn more about interactive tables.';\n",
              "        element.innerHTML = '';\n",
              "        dataTable['output_type'] = 'display_data';\n",
              "        await google.colab.output.renderOutput(dataTable, element);\n",
              "        const docLink = document.createElement('div');\n",
              "        docLink.innerHTML = docLinkHtml;\n",
              "        element.appendChild(docLink);\n",
              "      }\n",
              "    </script>\n",
              "  </div>\n",
              "\n",
              "\n",
              "    </div>\n",
              "  </div>\n"
            ],
            "application/vnd.google.colaboratory.intrinsic+json": {
              "type": "dataframe",
              "summary": "{\n  \"name\": \"filtered_df[['discount_flag', 'bill_subtotal', 'total_discount']]  # Replace with your desired columns\",\n  \"rows\": 1,\n  \"fields\": [\n    {\n      \"column\": \"discount_flag\",\n      \"properties\": {\n        \"dtype\": \"number\",\n        \"std\": null,\n        \"min\": 0,\n        \"max\": 0,\n        \"num_unique_values\": 1,\n        \"samples\": [\n          0\n        ],\n        \"semantic_type\": \"\",\n        \"description\": \"\"\n      }\n    },\n    {\n      \"column\": \"bill_subtotal\",\n      \"properties\": {\n        \"dtype\": \"number\",\n        \"std\": null,\n        \"min\": 409.0,\n        \"max\": 409.0,\n        \"num_unique_values\": 1,\n        \"samples\": [\n          409.0\n        ],\n        \"semantic_type\": \"\",\n        \"description\": \"\"\n      }\n    },\n    {\n      \"column\": \"total_discount\",\n      \"properties\": {\n        \"dtype\": \"number\",\n        \"std\": null,\n        \"min\": 424.45,\n        \"max\": 424.45,\n        \"num_unique_values\": 1,\n        \"samples\": [\n          424.45\n        ],\n        \"semantic_type\": \"\",\n        \"description\": \"\"\n      }\n    }\n  ]\n}"
            }
          },
          "metadata": {},
          "execution_count": 52
        }
      ]
    },
    {
      "source": [
        "order_history_df['final_bill'] = (order_history_df['bill_subtotal'] + order_history_df['packaging_charges']) - order_history_df['total_discount']"
      ],
      "cell_type": "code",
      "metadata": {
        "id": "3YPJXatoSGbP"
      },
      "execution_count": 38,
      "outputs": []
    },
    {
      "cell_type": "code",
      "source": [
        "order_history_df[\"discount_percentage\"] = (order_history_df[\"total_discount\"] / order_history_df[\"total\"]) * 100\n",
        "order_history_df['bill_subtotal'] = pd.to_numeric(order_history_df['bill_subtotal'], errors='coerce')\n",
        "order_history_df['total_discount'] = pd.to_numeric(order_history_df['total_discount'], errors='coerce')\n"
      ],
      "metadata": {
        "id": "6vR9XlgfSIxH"
      },
      "execution_count": 54,
      "outputs": []
    },
    {
      "cell_type": "markdown",
      "source": [
        "## Handling Missing values less than 500 counts"
      ],
      "metadata": {
        "id": "o1vAfw23ODHL"
      }
    },
    {
      "source": [
        "import seaborn as sns\n",
        "import matplotlib.pyplot as plt\n",
        "\n",
        "sns.histplot(data=order_history_df, x='kpt_duration_minutes', color='blue', label='kpt_duration_minutes', alpha=0.5)\n",
        "sns.histplot(data=order_history_df, x='rider_wait_time_minutes', color='red', label='rider_wait_time_minutes', alpha=0.5)\n",
        "sns.histplot(data=order_history_df, x='rating', color='green', label='rating', alpha=0.5)\n",
        "plt.title('Overlaid Histograms of kpt_duration_minutes and rider_wait_time_minutes and rating')\n",
        "plt.legend()\n",
        "plt.show()"
      ],
      "cell_type": "code",
      "metadata": {
        "colab": {
          "base_uri": "https://localhost:8080/",
          "height": 472
        },
        "id": "fSfs-5Tp-7jd",
        "outputId": "775de52a-a0df-48b7-f8e6-9a2aa9553e2e"
      },
      "execution_count": null,
      "outputs": [
        {
          "output_type": "display_data",
          "data": {
            "text/plain": [
              "<Figure size 640x480 with 1 Axes>"
            ],
            "image/png": "[encoded data removed]"
          },
          "metadata": {}
        }
      ]
    },
    {
      "cell_type": "code",
      "source": [
        "sns.histplot(data=order_history_df, x='rider_wait_time_minutes', color='red', label='rider_wait_time_minutes', alpha=0.5)\n"
      ],
      "metadata": {
        "colab": {
          "base_uri": "https://localhost:8080/",
          "height": 467
        },
        "id": "CfXi75u572i2",
        "outputId": "92d77345-8d08-402a-d25f-62ddee014504"
      },
      "execution_count": null,
      "outputs": [
        {
          "output_type": "execute_result",
          "data": {
            "text/plain": [
              "<Axes: xlabel='rider_wait_time_minutes', ylabel='Count'>"
            ]
          },
          "metadata": {},
          "execution_count": 62
        },
        {
          "output_type": "display_data",
          "data": {
            "text/plain": [
              "<Figure size 640x480 with 1 Axes>"
            ],
            "image/png": "[encoded data removed]"
          },
          "metadata": {}
        }
      ]
    },
    {
      "cell_type": "code",
      "source": [
        "sns.histplot(data=order_history_df, x='rating', color='green', label='rating', alpha=0.5)"
      ],
      "metadata": {
        "colab": {
          "base_uri": "https://localhost:8080/",
          "height": 466
        },
        "id": "8T2X0Y8J6xeH",
        "outputId": "4e472f8f-98ac-4ead-b3d0-2924b5df3024"
      },
      "execution_count": null,
      "outputs": [
        {
          "output_type": "execute_result",
          "data": {
            "text/plain": [
              "<Axes: xlabel='rating', ylabel='Count'>"
            ]
          },
          "metadata": {},
          "execution_count": 63
        },
        {
          "output_type": "display_data",
          "data": {
            "text/plain": [
              "<Figure size 640x480 with 1 Axes>"
            ],
            "image/png": "[encoded data removed]"
          },
          "metadata": {}
        }
      ]
    },
    {
      "cell_type": "code",
      "source": [
        "sns.histplot(data=order_history_df, x='kpt_duration_minutes', color='blue', label='kpt_duration_minutes', alpha=0.5)"
      ],
      "metadata": {
        "colab": {
          "base_uri": "https://localhost:8080/",
          "height": 467
        },
        "id": "zQ_oNK8fA-T5",
        "outputId": "e6e305e4-0b3a-4b3b-e43a-a7f6d231dce2"
      },
      "execution_count": null,
      "outputs": [
        {
          "output_type": "execute_result",
          "data": {
            "text/plain": [
              "<Axes: xlabel='kpt_duration_minutes', ylabel='Count'>"
            ]
          },
          "metadata": {},
          "execution_count": 64
        },
        {
          "output_type": "display_data",
          "data": {
            "text/plain": [
              "<Figure size 640x480 with 1 Axes>"
            ],
            "image/png": "[encoded data removed]"
          },
          "metadata": {}
        }
      ]
    },
    {
      "source": [
        "# Calculate the median of the specific column\n",
        "kpt_duration_minutes_median = order_history_df['kpt_duration_minutes'].median()\n",
        "print(kpt_duration_minutes_median)\n",
        "\n",
        "# Replace null values in the specific column with the median\n",
        "order_history_df['kpt_duration_minutes'] = order_history_df['kpt_duration_minutes'].fillna(kpt_duration_minutes_median)"
      ],
      "cell_type": "code",
      "metadata": {
        "colab": {
          "base_uri": "https://localhost:8080/"
        },
        "id": "5NMgmF-W_ryr",
        "outputId": "9abf0e54-91c4-47b2-b3fb-c4ff035d2a04"
      },
      "execution_count": 40,
      "outputs": [
        {
          "output_type": "stream",
          "name": "stdout",
          "text": [
            "16.33\n"
          ]
        }
      ]
    },
    {
      "source": [
        "# Calculate the median of the specific column\n",
        "rider_wait_time_minutes_median = order_history_df['rider_wait_time_minutes'].median()\n",
        "print(rider_wait_time_minutes_median)\n",
        "\n",
        "# Replace null values in the specific column with the median\n",
        "order_history_df['rider_wait_time_minutes'] = order_history_df['rider_wait_time_minutes'].fillna(rider_wait_time_minutes_median)"
      ],
      "cell_type": "code",
      "metadata": {
        "colab": {
          "base_uri": "https://localhost:8080/"
        },
        "id": "8tO98kZM_yx0",
        "outputId": "e72250ad-049d-49dd-c459-8da3413ac2e8"
      },
      "execution_count": 41,
      "outputs": [
        {
          "output_type": "stream",
          "name": "stdout",
          "text": [
            "3.1\n"
          ]
        }
      ]
    },
    {
      "cell_type": "markdown",
      "source": [
        "## Formating string(alphaets with numbers-->1km) distance column"
      ],
      "metadata": {
        "id": "Rw3Q6Pb9OUgd"
      }
    },
    {
      "cell_type": "code",
      "source": [
        "def clean_distance(distance_str):\n",
        "    if pd.isna(distance_str):\n",
        "        return np.nan\n",
        "    elif '<' in distance_str:\n",
        "        return 0.5  # <1km means approximately 0.5km\n",
        "    else:\n",
        "        # Extract the numeric part\n",
        "        return float(distance_str.replace('km', ''))\n",
        "\n",
        "order_history_df['distance'] = order_history_df['distance'].apply(clean_distance)\n"
      ],
      "metadata": {
        "id": "qmldihhWJQfj"
      },
      "execution_count": 16,
      "outputs": []
    },
    {
      "cell_type": "markdown",
      "source": [
        "## Filling categorical missing values\n",
        "\n",
        "## Not executed at the moment --- after feedback -1"
      ],
      "metadata": {
        "id": "-QzGhg_COnIN"
      }
    },
    {
      "source": [
        "categorical_cols = order_history_df.select_dtypes(include=['object']).columns\n",
        "\n",
        "for col in categorical_cols:\n",
        "    missing_count = order_history_df[col].isnull().sum()\n",
        "    if missing_count > 0:\n",
        "        print(f\"Column '{col}' has {missing_count} missing values.\")"
      ],
      "cell_type": "code",
      "metadata": {
        "colab": {
          "base_uri": "https://localhost:8080/"
        },
        "id": "qGVMJCyrCUmA",
        "outputId": "be1593a5-ab70-4e22-e053-c8eba91033fc"
      },
      "execution_count": null,
      "outputs": [
        {
          "output_type": "stream",
          "name": "stdout",
          "text": [
            "Column 'instructions' has 20601 missing values.\n",
            "Column 'discount_construct' has 5498 missing values.\n",
            "Column 'review' has 21025 missing values.\n",
            "Column 'cancellation_rejection_reason' has 21135 missing values.\n",
            "Column 'customer_complaint_tag' has 20852 missing values.\n"
          ]
        }
      ]
    },
    {
      "source": [
        "def fill_categorical_missing(df, column_name):\n",
        "    \"\"\"Fills missing values in a categorical column with 'No' + column name.\"\"\"\n",
        "    df[column_name] = df[column_name].fillna(f\"No_{column_name}\")\n",
        "    return df\n",
        "\n",
        "order_history_df = fill_categorical_missing(order_history_df, 'instructions')\n",
        "order_history_df = fill_categorical_missing(order_history_df, 'discount_construct')\n",
        "order_history_df = fill_categorical_missing(order_history_df, 'review')\n",
        "order_history_df = fill_categorical_missing(order_history_df, 'cancellation_rejection_reason')\n",
        "order_history_df = fill_categorical_missing(order_history_df, 'customer_complaint_tag')"
      ],
      "cell_type": "code",
      "metadata": {
        "id": "nDABQ4bfC7Yx"
      },
      "execution_count": null,
      "outputs": []
    },
    {
      "cell_type": "code",
      "source": [],
      "metadata": {
        "id": "fzYzNRjmK8UN"
      },
      "execution_count": null,
      "outputs": []
    },
    {
      "cell_type": "markdown",
      "source": [
        "## Outliers"
      ],
      "metadata": {
        "id": "bWYajSWSOzMC"
      }
    },
    {
      "source": [
        "numerical_cols = order_history_df.select_dtypes(include=['number']).columns\n",
        "print(numerical_cols)"
      ],
      "cell_type": "code",
      "metadata": {
        "colab": {
          "base_uri": "https://localhost:8080/"
        },
        "id": "uZ6W4GzqF9CO",
        "outputId": "4e20a5aa-df4d-40d9-c2c9-dce72b2ed207"
      },
      "execution_count": 44,
      "outputs": [
        {
          "output_type": "stream",
          "name": "stdout",
          "text": [
            "Index(['restaurant_id', 'order_id', 'bill_subtotal', 'packaging_charges',\n",
            "       'restaurant_discount_promo',\n",
            "       'restaurant_discount_flat_offs_freebies_others', 'gold_discount',\n",
            "       'brand_pack_discount', 'total', 'rating',\n",
            "       'restaurant_compensation_cancellation', 'restaurant_penalty_rejection',\n",
            "       'kpt_duration_minutes', 'rider_wait_time_minutes', 'item_count',\n",
            "       'total_discount', 'discount_flag', 'final_bill', 'discount_percentage'],\n",
            "      dtype='object')\n"
          ]
        }
      ]
    },
    {
      "cell_type": "markdown",
      "source": [
        "### Method 1"
      ],
      "metadata": {
        "id": "Ox2gYPKMO58i"
      }
    },
    {
      "source": [
        "import pandas as pd\n",
        "import numpy as np\n",
        "\n",
        "def find_outliers_per_column(df,columns):\n",
        "    \"\"\"\n",
        "    Finds outliers in each column of a pandas DataFrame using the IQR method.\n",
        "    Displays the outlier columns in the format: Column 'column_name': number outliers dropped.\n",
        "    Includes a total outlier dropped count at the end.\n",
        "    Provides a brief explanation of why outliers are dropped.\n",
        "    Displays the dropped outlier data points for each column.\n",
        "\n",
        "    Args:\n",
        "        df (pd.DataFrame): The input DataFrame.\n",
        "\n",
        "    Returns:\n",
        "        pd.DataFrame: The DataFrame with outliers removed.\n",
        "    \"\"\"\n",
        "\n",
        "    df_clean = df.copy()\n",
        "    total_dropped = 0  # Initialize total dropped count\n",
        "\n",
        "    for col in columns_for_outlier:\n",
        "        Q1 = df_clean[col].quantile(0.25)\n",
        "        Q3 = df_clean[col].quantile(0.75)\n",
        "        IQR = Q3 - Q1\n",
        "        lower_bound = Q1 - 3 * IQR\n",
        "        upper_bound = Q3 + 3 * IQR\n",
        "\n",
        "        # Identify and drop outliers\n",
        "        outlier_indices = df_clean[(df_clean[col] < lower_bound) | (df_clean[col] > upper_bound)].index\n",
        "        num_outliers = len(outlier_indices)\n",
        "\n",
        "        # Display dropped outliers for the current column\n",
        "        if num_outliers > 0:\n",
        "            print(f\"Column '{col}': {num_outliers} outliers dropped.\")\n",
        "            print(f\"  Reason: Outliers in '{col}' can significantly skew statistical analysis, affect model performance, and distort visualizations.\")\n",
        "            print(\"  Dropped Outliers:\")\n",
        "            print(df_clean.loc[outlier_indices, col])  # Display the dropped outlier values\n",
        "\n",
        "        df_clean.drop(index=outlier_indices, inplace=True)\n",
        "        total_dropped += num_outliers  # Accumulate total dropped count\n",
        "\n",
        "\n",
        "    print(f\"Total outliers dropped from DataFrame: {total_dropped}\")  # Display total dropped count\n",
        "    print(\"  Reason: Outliers can impact data analysis and model training by introducing bias or noise.\")\n",
        "    return df_clean\n",
        "\n"
      ],
      "cell_type": "code",
      "metadata": {
        "id": "tfHtMLUib7Qn"
      },
      "execution_count": 46,
      "outputs": []
    },
    {
      "cell_type": "markdown",
      "source": [
        "### Columns selection for dropping outliers\n",
        "--- selected only few columns for outlier,like total\",\"discount_percentage\",\"bill_subtotal\",\"rider_wait_time_minutes\""
      ],
      "metadata": {
        "id": "NKQOIMB0SEip"
      }
    },
    {
      "cell_type": "code",
      "source": [
        "#Based on above observation removing outliers for few columns\n",
        "columns_for_outlier=[\"total\",\"discount_percentage\",\"rider_wait_time_minutes\",\"kpt_duration_minutes\"]\n",
        "order_history_df_method2 = find_outliers_per_column(order_history_df, columns_for_outlier)"
      ],
      "metadata": {
        "colab": {
          "base_uri": "https://localhost:8080/"
        },
        "id": "OZQNlD2gH0cq",
        "outputId": "8e6df7ea-ff97-44e9-8879-47441cb36d71"
      },
      "execution_count": 56,
      "outputs": [
        {
          "output_type": "stream",
          "name": "stdout",
          "text": [
            "Column 'total': 245 outliers dropped.\n",
            "  Reason: Outliers in 'total' can significantly skew statistical analysis, affect model performance, and distort visualizations.\n",
            "  Dropped Outliers:\n",
            "399      2263.80\n",
            "437      2442.30\n",
            "520      2809.80\n",
            "916      2579.85\n",
            "1573     2243.85\n",
            "          ...   \n",
            "20884    2286.06\n",
            "20948    2216.13\n",
            "21150    3743.25\n",
            "21159    4063.50\n",
            "21235    3189.90\n",
            "Name: total, Length: 245, dtype: float64\n",
            "Column 'discount_percentage': 64 outliers dropped.\n",
            "  Reason: Outliers in 'discount_percentage' can significantly skew statistical analysis, affect model performance, and distort visualizations.\n",
            "  Dropped Outliers:\n",
            "74       166.998464\n",
            "320      130.821390\n",
            "765      139.095581\n",
            "1325     117.111111\n",
            "1433     117.111111\n",
            "            ...    \n",
            "14375    166.981187\n",
            "15149    103.031885\n",
            "15962    110.722944\n",
            "16447    134.360801\n",
            "20203    148.957252\n",
            "Name: discount_percentage, Length: 64, dtype: float64\n",
            "Column 'rider_wait_time_minutes': 68 outliers dropped.\n",
            "  Reason: Outliers in 'rider_wait_time_minutes' can significantly skew statistical analysis, affect model performance, and distort visualizations.\n",
            "  Dropped Outliers:\n",
            "914      27.9\n",
            "1377     27.9\n",
            "1613     27.3\n",
            "1656     27.8\n",
            "2109     36.6\n",
            "         ... \n",
            "18072    26.3\n",
            "18453    30.8\n",
            "18458    34.0\n",
            "20644    28.8\n",
            "21292    27.2\n",
            "Name: rider_wait_time_minutes, Length: 68, dtype: float64\n",
            "Column 'kpt_duration_minutes': 140 outliers dropped.\n",
            "  Reason: Outliers in 'kpt_duration_minutes' can significantly skew statistical analysis, affect model performance, and distort visualizations.\n",
            "  Dropped Outliers:\n",
            "681      43.50\n",
            "859      42.27\n",
            "886      49.62\n",
            "925      45.08\n",
            "987      50.45\n",
            "         ...  \n",
            "18314    42.90\n",
            "18751    59.12\n",
            "18840    41.65\n",
            "19326    40.03\n",
            "19962    39.62\n",
            "Name: kpt_duration_minutes, Length: 140, dtype: float64\n",
            "Total outliers dropped from DataFrame: 517\n",
            "  Reason: Outliers can impact data analysis and model training by introducing bias or noise.\n"
          ]
        }
      ]
    },
    {
      "cell_type": "markdown",
      "source": [
        "## Business Problem  - Predicting KPT duration by resturant"
      ],
      "metadata": {
        "id": "27NfTRFBSLPa"
      }
    },
    {
      "cell_type": "markdown",
      "source": [
        "### Obeserving outliers from above outputs"
      ],
      "metadata": {
        "id": "vd4AgmI4CV-a"
      }
    },
    {
      "cell_type": "code",
      "source": [
        "import pandas as pd\n",
        "import matplotlib.pyplot as plt\n",
        "import seaborn as sns\n",
        "\n",
        "order_history_df_filter_2=order_history_df[(order_history_df['item_count'] <= 4) & (order_history_df['kpt_duration_minutes'] > 60)]\n",
        "order_history_df_filter=order_history_df[(order_history_df['item_count'] <= 4) & (order_history_df['kpt_duration_minutes'] > 60) & (order_history_df['rider_wait_time_minutes'] > 15)]\n",
        "# Plot\n",
        "plt.figure(figsize=(10, 15))\n",
        "sns.scatterplot(x=order_history_df_filter['item_count'], y=order_history_df_filter['kpt_duration_minutes'], color='blue', s=200)\n",
        "sns.lineplot(x=order_history_df_filter['item_count'], y=order_history_df_filter['kpt_duration_minutes'], color='red', linestyle='dashed')\n",
        "\n",
        "# Labels and Title\n",
        "plt.xlabel(\"Number of Items\")\n",
        "plt.ylabel(\"Kitchen Preparation Time (Minutes)\")\n",
        "plt.title(\"Kitchen Preparation Time vs. Number of Items\")\n",
        "plt.grid(True)\n",
        "plt.show()\n"
      ],
      "metadata": {
        "colab": {
          "base_uri": "https://localhost:8080/",
          "height": 1000
        },
        "id": "v6NHeRDZc7nA",
        "outputId": "13ab4fb8-897b-45ec-b052-7a4598a71169"
      },
      "execution_count": 57,
      "outputs": [
        {
          "output_type": "display_data",
          "data": {
            "text/plain": [
              "<Figure size 1000x1500 with 1 Axes>"
            ],
            "image/png": "[encoded data removed]"
          },
          "metadata": {}
        }
      ]
    },
    {
      "cell_type": "code",
      "source": [
        "order_history_df_filter_2[[\"item_count\",\"items_in_order\",\"kpt_duration_minutes\",\"rider_wait_time_minutes\"]]"
      ],
      "metadata": {
        "colab": {
          "base_uri": "https://localhost:8080/",
          "height": 457
        },
        "id": "BQoe1rBDAYsv",
        "outputId": "1fa9ce5f-b49d-45f6-831c-e82ab357a081"
      },
      "execution_count": 58,
      "outputs": [
        {
          "output_type": "execute_result",
          "data": {
            "text/plain": [
              "       item_count                                     items_in_order  \\\n",
              "2387            1                          1 x Jamaican Chicken Melt   \n",
              "2389            1                                 1 x Bageecha Pizza   \n",
              "2390            2  1 x Fried Chicken Strips, 1 x Jamaican Chicken...   \n",
              "2391            3  1 x Chilli Cheese Garlic Bread, 1 x Fried Chic...   \n",
              "2392            2                           2 x Just Pepperoni Pizza   \n",
              "2471            1                   1 x Fried Chicken Classic Tender   \n",
              "2797            1       1 x Chicken 65 Grilled Chicken Tangdi (4pcs)   \n",
              "7410            4  2 x Murgh Amritsari Seekh Pide, 1 x Mutton See...   \n",
              "16025           2       1 x Bageecha Pizza, 1 x Makhani Paneer Pizza   \n",
              "16029           3  1 x Cheesy Garlic Bread, 1 x Just Pepperoni Pi...   \n",
              "16145           1                           1 x Just Pepperoni Pizza   \n",
              "17994           4  1 x Makhani Paneer Pizza, 1 x Bacon Pepperoni ...   \n",
              "18024           2       1 x Malai Gud Pide, 1 x Makhani Paneer Pizza   \n",
              "\n",
              "       kpt_duration_minutes  rider_wait_time_minutes  \n",
              "2387                  65.63                      2.9  \n",
              "2389                  66.45                      4.1  \n",
              "2390                  76.07                     28.1  \n",
              "2391                  66.87                      9.0  \n",
              "2392                  78.03                     42.6  \n",
              "2471                  62.33                     10.9  \n",
              "2797                  62.65                     34.9  \n",
              "7410                  65.33                     28.6  \n",
              "16025                 64.20                     45.4  \n",
              "16029                 68.92                     39.7  \n",
              "16145                 72.58                     22.2  \n",
              "17994                 70.50                     73.8  \n",
              "18024                 66.18                     29.9  "
            ],
            "text/html": [
              "\n",
              "  <div id=\"df-a876f1fc-53f0-4fd1-bca7-e561149fa8bc\" class=\"colab-df-container\">\n",
              "    <div>\n",
              "<style scoped>\n",
              "    .dataframe tbody tr th:only-of-type {\n",
              "        vertical-align: middle;\n",
              "    }\n",
              "\n",
              "    .dataframe tbody tr th {\n",
              "        vertical-align: top;\n",
              "    }\n",
              "\n",
              "    .dataframe thead th {\n",
              "        text-align: right;\n",
              "    }\n",
              "</style>\n",
              "<table border=\"1\" class=\"dataframe\">\n",
              "  <thead>\n",
              "    <tr style=\"text-align: right;\">\n",
              "      <th></th>\n",
              "      <th>item_count</th>\n",
              "      <th>items_in_order</th>\n",
              "      <th>kpt_duration_minutes</th>\n",
              "      <th>rider_wait_time_minutes</th>\n",
              "    </tr>\n",
              "  </thead>\n",
              "  <tbody>\n",
              "    <tr>\n",
              "      <th>2387</th>\n",
              "      <td>1</td>\n",
              "      <td>1 x Jamaican Chicken Melt</td>\n",
              "      <td>65.63</td>\n",
              "      <td>2.9</td>\n",
              "    </tr>\n",
              "    <tr>\n",
              "      <th>2389</th>\n",
              "      <td>1</td>\n",
              "      <td>1 x Bageecha Pizza</td>\n",
              "      <td>66.45</td>\n",
              "      <td>4.1</td>\n",
              "    </tr>\n",
              "    <tr>\n",
              "      <th>2390</th>\n",
              "      <td>2</td>\n",
              "      <td>1 x Fried Chicken Strips, 1 x Jamaican Chicken...</td>\n",
              "      <td>76.07</td>\n",
              "      <td>28.1</td>\n",
              "    </tr>\n",
              "    <tr>\n",
              "      <th>2391</th>\n",
              "      <td>3</td>\n",
              "      <td>1 x Chilli Cheese Garlic Bread, 1 x Fried Chic...</td>\n",
              "      <td>66.87</td>\n",
              "      <td>9.0</td>\n",
              "    </tr>\n",
              "    <tr>\n",
              "      <th>2392</th>\n",
              "      <td>2</td>\n",
              "      <td>2 x Just Pepperoni Pizza</td>\n",
              "      <td>78.03</td>\n",
              "      <td>42.6</td>\n",
              "    </tr>\n",
              "    <tr>\n",
              "      <th>2471</th>\n",
              "      <td>1</td>\n",
              "      <td>1 x Fried Chicken Classic Tender</td>\n",
              "      <td>62.33</td>\n",
              "      <td>10.9</td>\n",
              "    </tr>\n",
              "    <tr>\n",
              "      <th>2797</th>\n",
              "      <td>1</td>\n",
              "      <td>1 x Chicken 65 Grilled Chicken Tangdi (4pcs)</td>\n",
              "      <td>62.65</td>\n",
              "      <td>34.9</td>\n",
              "    </tr>\n",
              "    <tr>\n",
              "      <th>7410</th>\n",
              "      <td>4</td>\n",
              "      <td>2 x Murgh Amritsari Seekh Pide, 1 x Mutton See...</td>\n",
              "      <td>65.33</td>\n",
              "      <td>28.6</td>\n",
              "    </tr>\n",
              "    <tr>\n",
              "      <th>16025</th>\n",
              "      <td>2</td>\n",
              "      <td>1 x Bageecha Pizza, 1 x Makhani Paneer Pizza</td>\n",
              "      <td>64.20</td>\n",
              "      <td>45.4</td>\n",
              "    </tr>\n",
              "    <tr>\n",
              "      <th>16029</th>\n",
              "      <td>3</td>\n",
              "      <td>1 x Cheesy Garlic Bread, 1 x Just Pepperoni Pi...</td>\n",
              "      <td>68.92</td>\n",
              "      <td>39.7</td>\n",
              "    </tr>\n",
              "    <tr>\n",
              "      <th>16145</th>\n",
              "      <td>1</td>\n",
              "      <td>1 x Just Pepperoni Pizza</td>\n",
              "      <td>72.58</td>\n",
              "      <td>22.2</td>\n",
              "    </tr>\n",
              "    <tr>\n",
              "      <th>17994</th>\n",
              "      <td>4</td>\n",
              "      <td>1 x Makhani Paneer Pizza, 1 x Bacon Pepperoni ...</td>\n",
              "      <td>70.50</td>\n",
              "      <td>73.8</td>\n",
              "    </tr>\n",
              "    <tr>\n",
              "      <th>18024</th>\n",
              "      <td>2</td>\n",
              "      <td>1 x Malai Gud Pide, 1 x Makhani Paneer Pizza</td>\n",
              "      <td>66.18</td>\n",
              "      <td>29.9</td>\n",
              "    </tr>\n",
              "  </tbody>\n",
              "</table>\n",
              "</div>\n",
              "    <div class=\"colab-df-buttons\">\n",
              "\n",
              "  <div class=\"colab-df-container\">\n",
              "    <button class=\"colab-df-convert\" onclick=\"convertToInteractive('df-a876f1fc-53f0-4fd1-bca7-e561149fa8bc')\"\n",
              "            title=\"Convert this dataframe to an interactive table.\"\n",
              "            style=\"display:none;\">\n",
              "\n",
              "  <svg xmlns=\"http://www.w3.org/2000/svg\" height=\"24px\" viewBox=\"0 -960 960 960\">\n",
              "    <path d=\"M120-120v-720h720v720H120Zm60-500h600v-160H180v160Zm220 220h160v-160H400v160Zm0 220h160v-160H400v160ZM180-400h160v-160H180v160Zm440 0h160v-160H620v160ZM180-180h160v-160H180v160Zm440 0h160v-160H620v160Z\"/>\n",
              "  </svg>\n",
              "    </button>\n",
              "\n",
              "  <style>\n",
              "    .colab-df-container {\n",
              "      display:flex;\n",
              "      gap: 12px;\n",
              "    }\n",
              "\n",
              "    .colab-df-convert {\n",
              "      background-color: #E8F0FE;\n",
              "      border: none;\n",
              "      border-radius: 50%;\n",
              "      cursor: pointer;\n",
              "      display: none;\n",
              "      fill: #1967D2;\n",
              "      height: 32px;\n",
              "      padding: 0 0 0 0;\n",
              "      width: 32px;\n",
              "    }\n",
              "\n",
              "    .colab-df-convert:hover {\n",
              "      background-color: #E2EBFA;\n",
              "      box-shadow: 0px 1px 2px rgba(60, 64, 67, 0.3), 0px 1px 3px 1px rgba(60, 64, 67, 0.15);\n",
              "      fill: #174EA6;\n",
              "    }\n",
              "\n",
              "    .colab-df-buttons div {\n",
              "      margin-bottom: 4px;\n",
              "    }\n",
              "\n",
              "    [theme=dark] .colab-df-convert {\n",
              "      background-color: #3B4455;\n",
              "      fill: #D2E3FC;\n",
              "    }\n",
              "\n",
              "    [theme=dark] .colab-df-convert:hover {\n",
              "      background-color: #434B5C;\n",
              "      box-shadow: 0px 1px 3px 1px rgba(0, 0, 0, 0.15);\n",
              "      filter: drop-shadow(0px 1px 2px rgba(0, 0, 0, 0.3));\n",
              "      fill: #FFFFFF;\n",
              "    }\n",
              "  </style>\n",
              "\n",
              "    <script>\n",
              "      const buttonEl =\n",
              "        document.querySelector('#df-a876f1fc-53f0-4fd1-bca7-e561149fa8bc button.colab-df-convert');\n",
              "      buttonEl.style.display =\n",
              "        google.colab.kernel.accessAllowed ? 'block' : 'none';\n",
              "\n",
              "      async function convertToInteractive(key) {\n",
              "        const element = document.querySelector('#df-a876f1fc-53f0-4fd1-bca7-e561149fa8bc');\n",
              "        const dataTable =\n",
              "          await google.colab.kernel.invokeFunction('convertToInteractive',\n",
              "                                                    [key], {});\n",
              "        if (!dataTable) return;\n",
              "\n",
              "        const docLinkHtml = 'Like what you see? Visit the ' +\n",
              "          '<a target=\"_blank\" href=https://colab.research.google.com/notebooks/data_table.ipynb>data table notebook</a>'\n",
              "          + ' to learn more about interactive tables.';\n",
              "        element.innerHTML = '';\n",
              "        dataTable['output_type'] = 'display_data';\n",
              "        await google.colab.output.renderOutput(dataTable, element);\n",
              "        const docLink = document.createElement('div');\n",
              "        docLink.innerHTML = docLinkHtml;\n",
              "        element.appendChild(docLink);\n",
              "      }\n",
              "    </script>\n",
              "  </div>\n",
              "\n",
              "\n",
              "<div id=\"df-11827f17-1840-4b00-990d-2c325ba22dc9\">\n",
              "  <button class=\"colab-df-quickchart\" onclick=\"quickchart('df-11827f17-1840-4b00-990d-2c325ba22dc9')\"\n",
              "            title=\"Suggest charts\"\n",
              "            style=\"display:none;\">\n",
              "\n",
              "<svg xmlns=\"http://www.w3.org/2000/svg\" height=\"24px\"viewBox=\"0 0 24 24\"\n",
              "     width=\"24px\">\n",
              "    <g>\n",
              "        <path d=\"M19 3H5c-1.1 0-2 .9-2 2v14c0 1.1.9 2 2 2h14c1.1 0 2-.9 2-2V5c0-1.1-.9-2-2-2zM9 17H7v-7h2v7zm4 0h-2V7h2v10zm4 0h-2v-4h2v4z\"/>\n",
              "    </g>\n",
              "</svg>\n",
              "  </button>\n",
              "\n",
              "<style>\n",
              "  .colab-df-quickchart {\n",
              "      --bg-color: #E8F0FE;\n",
              "      --fill-color: #1967D2;\n",
              "      --hover-bg-color: #E2EBFA;\n",
              "      --hover-fill-color: #174EA6;\n",
              "      --disabled-fill-color: #AAA;\n",
              "      --disabled-bg-color: #DDD;\n",
              "  }\n",
              "\n",
              "  [theme=dark] .colab-df-quickchart {\n",
              "      --bg-color: #3B4455;\n",
              "      --fill-color: #D2E3FC;\n",
              "      --hover-bg-color: #434B5C;\n",
              "      --hover-fill-color: #FFFFFF;\n",
              "      --disabled-bg-color: #3B4455;\n",
              "      --disabled-fill-color: #666;\n",
              "  }\n",
              "\n",
              "  .colab-df-quickchart {\n",
              "    background-color: var(--bg-color);\n",
              "    border: none;\n",
              "    border-radius: 50%;\n",
              "    cursor: pointer;\n",
              "    display: none;\n",
              "    fill: var(--fill-color);\n",
              "    height: 32px;\n",
              "    padding: 0;\n",
              "    width: 32px;\n",
              "  }\n",
              "\n",
              "  .colab-df-quickchart:hover {\n",
              "    background-color: var(--hover-bg-color);\n",
              "    box-shadow: 0 1px 2px rgba(60, 64, 67, 0.3), 0 1px 3px 1px rgba(60, 64, 67, 0.15);\n",
              "    fill: var(--button-hover-fill-color);\n",
              "  }\n",
              "\n",
              "  .colab-df-quickchart-complete:disabled,\n",
              "  .colab-df-quickchart-complete:disabled:hover {\n",
              "    background-color: var(--disabled-bg-color);\n",
              "    fill: var(--disabled-fill-color);\n",
              "    box-shadow: none;\n",
              "  }\n",
              "\n",
              "  .colab-df-spinner {\n",
              "    border: 2px solid var(--fill-color);\n",
              "    border-color: transparent;\n",
              "    border-bottom-color: var(--fill-color);\n",
              "    animation:\n",
              "      spin 1s steps(1) infinite;\n",
              "  }\n",
              "\n",
              "  @keyframes spin {\n",
              "    0% {\n",
              "      border-color: transparent;\n",
              "      border-bottom-color: var(--fill-color);\n",
              "      border-left-color: var(--fill-color);\n",
              "    }\n",
              "    20% {\n",
              "      border-color: transparent;\n",
              "      border-left-color: var(--fill-color);\n",
              "      border-top-color: var(--fill-color);\n",
              "    }\n",
              "    30% {\n",
              "      border-color: transparent;\n",
              "      border-left-color: var(--fill-color);\n",
              "      border-top-color: var(--fill-color);\n",
              "      border-right-color: var(--fill-color);\n",
              "    }\n",
              "    40% {\n",
              "      border-color: transparent;\n",
              "      border-right-color: var(--fill-color);\n",
              "      border-top-color: var(--fill-color);\n",
              "    }\n",
              "    60% {\n",
              "      border-color: transparent;\n",
              "      border-right-color: var(--fill-color);\n",
              "    }\n",
              "    80% {\n",
              "      border-color: transparent;\n",
              "      border-right-color: var(--fill-color);\n",
              "      border-bottom-color: var(--fill-color);\n",
              "    }\n",
              "    90% {\n",
              "      border-color: transparent;\n",
              "      border-bottom-color: var(--fill-color);\n",
              "    }\n",
              "  }\n",
              "</style>\n",
              "\n",
              "  <script>\n",
              "    async function quickchart(key) {\n",
              "      const quickchartButtonEl =\n",
              "        document.querySelector('#' + key + ' button');\n",
              "      quickchartButtonEl.disabled = true;  // To prevent multiple clicks.\n",
              "      quickchartButtonEl.classList.add('colab-df-spinner');\n",
              "      try {\n",
              "        const charts = await google.colab.kernel.invokeFunction(\n",
              "            'suggestCharts', [key], {});\n",
              "      } catch (error) {\n",
              "        console.error('Error during call to suggestCharts:', error);\n",
              "      }\n",
              "      quickchartButtonEl.classList.remove('colab-df-spinner');\n",
              "      quickchartButtonEl.classList.add('colab-df-quickchart-complete');\n",
              "    }\n",
              "    (() => {\n",
              "      let quickchartButtonEl =\n",
              "        document.querySelector('#df-11827f17-1840-4b00-990d-2c325ba22dc9 button');\n",
              "      quickchartButtonEl.style.display =\n",
              "        google.colab.kernel.accessAllowed ? 'block' : 'none';\n",
              "    })();\n",
              "  </script>\n",
              "</div>\n",
              "\n",
              "    </div>\n",
              "  </div>\n"
            ],
            "application/vnd.google.colaboratory.intrinsic+json": {
              "type": "dataframe",
              "summary": "{\n  \"name\": \"order_history_df_filter_2[[\\\"item_count\\\",\\\"items_in_order\\\",\\\"kpt_duration_minutes\\\",\\\"rider_wait_time_minutes\\\"]]\",\n  \"rows\": 13,\n  \"fields\": [\n    {\n      \"column\": \"item_count\",\n      \"properties\": {\n        \"dtype\": \"number\",\n        \"std\": 1,\n        \"min\": 1,\n        \"max\": 4,\n        \"num_unique_values\": 4,\n        \"samples\": [\n          2,\n          4,\n          1\n        ],\n        \"semantic_type\": \"\",\n        \"description\": \"\"\n      }\n    },\n    {\n      \"column\": \"items_in_order\",\n      \"properties\": {\n        \"dtype\": \"string\",\n        \"num_unique_values\": 13,\n        \"samples\": [\n          \"1 x Makhani Paneer Pizza, 1 x Bacon Pepperoni Melt, 1 x Murgh Amritsari Seekh Pizza, 1 x Tripple Cheese Pizza\",\n          \"1 x Cheesy Garlic Bread, 1 x Just Pepperoni Pizza, 1 x Peri Peri Grilled Chicken Pizza\",\n          \"1 x Jamaican Chicken Melt\"\n        ],\n        \"semantic_type\": \"\",\n        \"description\": \"\"\n      }\n    },\n    {\n      \"column\": \"kpt_duration_minutes\",\n      \"properties\": {\n        \"dtype\": \"number\",\n        \"std\": 4.903355209210558,\n        \"min\": 62.33,\n        \"max\": 78.03,\n        \"num_unique_values\": 13,\n        \"samples\": [\n          70.5,\n          68.92,\n          65.63\n        ],\n        \"semantic_type\": \"\",\n        \"description\": \"\"\n      }\n    },\n    {\n      \"column\": \"rider_wait_time_minutes\",\n      \"properties\": {\n        \"dtype\": \"number\",\n        \"std\": 19.75951896538956,\n        \"min\": 2.9,\n        \"max\": 73.8,\n        \"num_unique_values\": 13,\n        \"samples\": [\n          73.8,\n          39.7,\n          2.9\n        ],\n        \"semantic_type\": \"\",\n        \"description\": \"\"\n      }\n    }\n  ]\n}"
            }
          },
          "metadata": {},
          "execution_count": 58
        }
      ]
    },
    {
      "cell_type": "code",
      "source": [],
      "metadata": {
        "id": "aTpttl5fBw3J"
      },
      "execution_count": 58,
      "outputs": []
    },
    {
      "cell_type": "markdown",
      "source": [
        "# Baselining\n",
        "-- without dropping outliers"
      ],
      "metadata": {
        "id": "g4KBx_4BGVZP"
      }
    },
    {
      "cell_type": "markdown",
      "source": [],
      "metadata": {
        "id": "S1QGYq-tMxD1"
      }
    },
    {
      "cell_type": "markdown",
      "source": [
        "### Sample Mean Baselining\n",
        "--- as suggested during session"
      ],
      "metadata": {
        "id": "KWmxJ0I2M0oM"
      }
    },
    {
      "cell_type": "code",
      "source": [
        "baseline_kpt = order_history_df['kpt_duration_minutes'].mean()\n",
        "order_history_df['baseline_prediction_mean'] = baseline_kpt"
      ],
      "metadata": {
        "id": "YuED5rwTM-rM"
      },
      "execution_count": 35,
      "outputs": []
    },
    {
      "cell_type": "markdown",
      "source": [
        "### Sample Median Baselining"
      ],
      "metadata": {
        "id": "5qORZ9bsNWAj"
      }
    },
    {
      "cell_type": "code",
      "source": [
        "baseline_kpt = order_history_df['kpt_duration_minutes'].median()\n",
        "order_history_df['baseline_prediction_median'] = baseline_kpt"
      ],
      "metadata": {
        "id": "3RAWba4RNH2v"
      },
      "execution_count": 36,
      "outputs": []
    },
    {
      "cell_type": "markdown",
      "source": [
        "### Baselining per resturant"
      ],
      "metadata": {
        "id": "_T0hNt5DNp60"
      }
    },
    {
      "cell_type": "code",
      "source": [
        "order_history_df['baseline_prediction_per_restaurant'] = order_history_df.groupby('restaurant_name')['kpt_duration_minutes'].transform('mean')"
      ],
      "metadata": {
        "id": "h37_SmOANezZ"
      },
      "execution_count": 72,
      "outputs": []
    },
    {
      "cell_type": "markdown",
      "source": [
        "### Baseling per area"
      ],
      "metadata": {
        "id": "QXrL7IceN2Zz"
      }
    },
    {
      "cell_type": "code",
      "source": [
        "order_history_df['baseline_prediction_per_subzon'] = order_history_df.groupby(['restaurant_name','subzone'])['kpt_duration_minutes'].transform('mean')"
      ],
      "metadata": {
        "id": "OrHvUHgoN0yU"
      },
      "execution_count": 71,
      "outputs": []
    },
    {
      "cell_type": "code",
      "source": [
        "order_history_df['baseline_prediction_last_kpt'] = order_history_df.groupby(['restaurant_name','subzone'])['kpt_duration_minutes'].shift(1)\n",
        "order_history_drop_na_last_orders=order_history_df.dropna(subset=['baseline_prediction_last_kpt'])##dropping nullvalues because there is no previous orders\n"
      ],
      "metadata": {
        "id": "CucEpLWjS7nM"
      },
      "execution_count": 91,
      "outputs": []
    },
    {
      "cell_type": "markdown",
      "source": [
        "### Baseline metrics from above baselining"
      ],
      "metadata": {
        "id": "pZtiBPsZOH3B"
      }
    },
    {
      "cell_type": "code",
      "source": [
        "from sklearn.metrics import mean_absolute_error\n",
        "\n",
        "mae_mean = mean_absolute_error(order_history_df['kpt_duration_minutes'], order_history_df['baseline_prediction_mean'])\n",
        "print(f'Baseline Mean MAE: {mae_mean:.2f} minutes')\n",
        "\n",
        "mae_median = mean_absolute_error(order_history_df['kpt_duration_minutes'], order_history_df['baseline_prediction_median'])\n",
        "print(f'Baseline Median MAE: {mae_median:.2f} minutes')\n",
        "\n",
        "mae_mean_rest = mean_absolute_error(order_history_df['kpt_duration_minutes'], order_history_df['baseline_prediction_per_restaurant'])\n",
        "print(f'Baseline Mean Per restaurant: {mae_mean_rest:.2f} minutes')\n",
        "\n",
        "mae_mean_subzone = mean_absolute_error(order_history_df['kpt_duration_minutes'], order_history_df['baseline_prediction_per_subzon'])\n",
        "print(f'Baseline Mean Per Subzon MAE: {mae_mean_subzone:.2f} minutes')\n",
        "\n",
        "mae_mean_subzone_last_order = mean_absolute_error(order_history_drop_na_last_orders['kpt_duration_minutes'], order_history_drop_na_last_orders['baseline_prediction_last_kpt'])\n",
        "print(f'Baseline Mean Per Subzon last order MAE: {mae_mean_subzone_last_order:.2f} minutes')"
      ],
      "metadata": {
        "colab": {
          "base_uri": "https://localhost:8080/"
        },
        "id": "nIiL0vLtOBRY",
        "outputId": "5b9aa2d0-8629-49ce-d960-8d598676166d"
      },
      "execution_count": 92,
      "outputs": [
        {
          "output_type": "stream",
          "name": "stdout",
          "text": [
            "Baseline Mean MAE: 4.43 minutes\n",
            "Baseline Median MAE: 4.34 minutes\n",
            "Baseline Mean Per restaurant: 4.40 minutes\n",
            "Baseline Mean Per Subzon MAE: 4.31 minutes\n",
            "Baseline Mean Per Subzon last order MAE: 5.10 minutes\n"
          ]
        }
      ]
    },
    {
      "cell_type": "code",
      "source": [
        "order_history_driop_na_last_orders"
      ],
      "metadata": {
        "id": "TxHx2sN9Tbx2"
      },
      "execution_count": 84,
      "outputs": []
    },
    {
      "cell_type": "code",
      "source": [
        "|"
      ],
      "metadata": {
        "id": "P-ukuanfWbU-"
      },
      "execution_count": null,
      "outputs": []
    }
  ]
}